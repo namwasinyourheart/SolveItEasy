{
 "cells": [
  {
   "cell_type": "code",
   "execution_count": 1,
   "metadata": {},
   "outputs": [
    {
     "data": {
      "text/plain": [
       "True"
      ]
     },
     "execution_count": 1,
     "metadata": {},
     "output_type": "execute_result"
    }
   ],
   "source": [
    "from dotenv import load_dotenv\n",
    "load_dotenv()"
   ]
  },
  {
   "cell_type": "code",
   "execution_count": 2,
   "metadata": {},
   "outputs": [],
   "source": [
    "import os\n",
    "from huggingface_hub import login\n",
    "login(token=os.environ['HUGGINGFACEHUB_API_TOKEN'])"
   ]
  },
  {
   "cell_type": "code",
   "execution_count": 3,
   "metadata": {},
   "outputs": [],
   "source": [
    "from datasets import load_dataset"
   ]
  },
  {
   "cell_type": "code",
   "execution_count": 4,
   "metadata": {},
   "outputs": [],
   "source": [
    "data = load_dataset('namfam/gsm8k-vietnamese')"
   ]
  },
  {
   "cell_type": "code",
   "execution_count": 5,
   "metadata": {},
   "outputs": [],
   "source": [
    "import json\n",
    "\n",
    "# Assuming `data` is a DatasetDict\n",
    "dataset_split = data[\"train\"]  # or \"test\", \"validation\", etc."
   ]
  },
  {
   "cell_type": "code",
   "execution_count": 6,
   "metadata": {},
   "outputs": [],
   "source": [
    "# Convert to JSON (list of dictionaries)\n",
    "json_data = dataset_split.to_pandas()"
   ]
  },
  {
   "cell_type": "code",
   "execution_count": 7,
   "metadata": {},
   "outputs": [
    {
     "data": {
      "text/html": [
       "<div>\n",
       "<style scoped>\n",
       "    .dataframe tbody tr th:only-of-type {\n",
       "        vertical-align: middle;\n",
       "    }\n",
       "\n",
       "    .dataframe tbody tr th {\n",
       "        vertical-align: top;\n",
       "    }\n",
       "\n",
       "    .dataframe thead th {\n",
       "        text-align: right;\n",
       "    }\n",
       "</style>\n",
       "<table border=\"1\" class=\"dataframe\">\n",
       "  <thead>\n",
       "    <tr style=\"text-align: right;\">\n",
       "      <th></th>\n",
       "      <th>index</th>\n",
       "      <th>answer</th>\n",
       "      <th>problem</th>\n",
       "      <th>solution</th>\n",
       "    </tr>\n",
       "  </thead>\n",
       "  <tbody>\n",
       "    <tr>\n",
       "      <th>0</th>\n",
       "      <td>4691</td>\n",
       "      <td>570</td>\n",
       "      <td>Jerry được thuê để làm việc trên một ngôi nhà ...</td>\n",
       "      <td>Explanation:\\nJerry mất 24 giờ để sửa cái bàn ...</td>\n",
       "    </tr>\n",
       "    <tr>\n",
       "      <th>1</th>\n",
       "      <td>4614</td>\n",
       "      <td>150</td>\n",
       "      <td>Yasmin đã gửi một chiếc séc sinh nhật trị giá ...</td>\n",
       "      <td>Explanation:\\nSố tiền 50 đô la trên chiếc séc ...</td>\n",
       "    </tr>\n",
       "    <tr>\n",
       "      <th>2</th>\n",
       "      <td>7081</td>\n",
       "      <td>19</td>\n",
       "      <td>Một giáo viên đã mua một số dụng cụ học tập vớ...</td>\n",
       "      <td>Explanation:\\nNgân sách tổng của giáo viên là ...</td>\n",
       "    </tr>\n",
       "    <tr>\n",
       "      <th>3</th>\n",
       "      <td>5434</td>\n",
       "      <td>274</td>\n",
       "      <td>Kylie và Kayla hái táo cùng nhau và mang về nh...</td>\n",
       "      <td>Explanation:\\nKylie đã hái được 66 quả táo. Ka...</td>\n",
       "    </tr>\n",
       "    <tr>\n",
       "      <th>4</th>\n",
       "      <td>2504</td>\n",
       "      <td>70</td>\n",
       "      <td>Elsie có một số lượng khăn ướt cụ thể trong mộ...</td>\n",
       "      <td>Explanation:\\nSáng hôm đó, Elsie có w miếng kh...</td>\n",
       "    </tr>\n",
       "    <tr>\n",
       "      <th>...</th>\n",
       "      <td>...</td>\n",
       "      <td>...</td>\n",
       "      <td>...</td>\n",
       "      <td>...</td>\n",
       "    </tr>\n",
       "    <tr>\n",
       "      <th>6720</th>\n",
       "      <td>4306</td>\n",
       "      <td>23</td>\n",
       "      <td>Có 920 con nai trong một công viên. 10% số nai...</td>\n",
       "      <td>Explanation:\\nĐầu tiên tìm số lượng nai có 8 s...</td>\n",
       "    </tr>\n",
       "    <tr>\n",
       "      <th>6721</th>\n",
       "      <td>6983</td>\n",
       "      <td>1260</td>\n",
       "      <td>Một chiếc vòng quay có thể chứa được 70 người ...</td>\n",
       "      <td>Explanation:\\nCông Viên Vòng Quay sẽ mở cửa tr...</td>\n",
       "    </tr>\n",
       "    <tr>\n",
       "      <th>6722</th>\n",
       "      <td>2726</td>\n",
       "      <td>8</td>\n",
       "      <td>Jeremy thích chơi Scrabble. Anh ấy từng đánh m...</td>\n",
       "      <td>Explanation:\\nSau khi từ \"score\" được nhân ba ...</td>\n",
       "    </tr>\n",
       "    <tr>\n",
       "      <th>6723</th>\n",
       "      <td>49</td>\n",
       "      <td>48</td>\n",
       "      <td>Trong chuyến đi dã ngoại đến bờ biển của trườn...</td>\n",
       "      <td>Explanation:\\nBen đã sưu tầm được 12 vỏ sò từ ...</td>\n",
       "    </tr>\n",
       "    <tr>\n",
       "      <th>6724</th>\n",
       "      <td>3812</td>\n",
       "      <td>75</td>\n",
       "      <td>Don ném 3 phi tiêu. Một phi tiêu trúng tâm giá...</td>\n",
       "      <td>Explanation:\\nCú tung thứ ba của Don đạt được ...</td>\n",
       "    </tr>\n",
       "  </tbody>\n",
       "</table>\n",
       "<p>6725 rows × 4 columns</p>\n",
       "</div>"
      ],
      "text/plain": [
       "      index answer                                            problem  \\\n",
       "0      4691    570  Jerry được thuê để làm việc trên một ngôi nhà ...   \n",
       "1      4614    150  Yasmin đã gửi một chiếc séc sinh nhật trị giá ...   \n",
       "2      7081     19  Một giáo viên đã mua một số dụng cụ học tập vớ...   \n",
       "3      5434    274  Kylie và Kayla hái táo cùng nhau và mang về nh...   \n",
       "4      2504     70  Elsie có một số lượng khăn ướt cụ thể trong mộ...   \n",
       "...     ...    ...                                                ...   \n",
       "6720   4306     23  Có 920 con nai trong một công viên. 10% số nai...   \n",
       "6721   6983   1260  Một chiếc vòng quay có thể chứa được 70 người ...   \n",
       "6722   2726      8  Jeremy thích chơi Scrabble. Anh ấy từng đánh m...   \n",
       "6723     49     48  Trong chuyến đi dã ngoại đến bờ biển của trườn...   \n",
       "6724   3812     75  Don ném 3 phi tiêu. Một phi tiêu trúng tâm giá...   \n",
       "\n",
       "                                               solution  \n",
       "0     Explanation:\\nJerry mất 24 giờ để sửa cái bàn ...  \n",
       "1     Explanation:\\nSố tiền 50 đô la trên chiếc séc ...  \n",
       "2     Explanation:\\nNgân sách tổng của giáo viên là ...  \n",
       "3     Explanation:\\nKylie đã hái được 66 quả táo. Ka...  \n",
       "4     Explanation:\\nSáng hôm đó, Elsie có w miếng kh...  \n",
       "...                                                 ...  \n",
       "6720  Explanation:\\nĐầu tiên tìm số lượng nai có 8 s...  \n",
       "6721  Explanation:\\nCông Viên Vòng Quay sẽ mở cửa tr...  \n",
       "6722  Explanation:\\nSau khi từ \"score\" được nhân ba ...  \n",
       "6723  Explanation:\\nBen đã sưu tầm được 12 vỏ sò từ ...  \n",
       "6724  Explanation:\\nCú tung thứ ba của Don đạt được ...  \n",
       "\n",
       "[6725 rows x 4 columns]"
      ]
     },
     "execution_count": 7,
     "metadata": {},
     "output_type": "execute_result"
    }
   ],
   "source": [
    "json_data"
   ]
  },
  {
   "cell_type": "code",
   "execution_count": 25,
   "metadata": {},
   "outputs": [],
   "source": [
    "import json\n",
    "import os\n",
    "from datasets import load_dataset, Dataset, DatasetDict\n",
    "\n",
    "def save_hf_dataset_to_json(data_id: str, save_dir: str = None):\n",
    "    \"\"\"\n",
    "    Load a Hugging Face dataset and save each split as a JSON file.\n",
    "\n",
    "    Args:\n",
    "        data_id (str): Path to the Hugging Face dataset (or dataset ID).\n",
    "        save_dir (str, optional): Directory to save JSON files. Defaults to the second part of `data_id` after '/'.\n",
    "    \"\"\"\n",
    "    # If save_dir is not specified, extract dataset name from data_id\n",
    "    if save_dir is None:\n",
    "        save_dir = data_id.split(\"/\")[-1]\n",
    "\n",
    "    # Load the dataset\n",
    "    dataset = load_dataset(data_id)\n",
    "\n",
    "    # Ensure the save directory exists\n",
    "    os.makedirs(save_dir, exist_ok=True)\n",
    "\n",
    "    # Save each split separately\n",
    "    if isinstance(dataset, DatasetDict):\n",
    "        for split, ds in dataset.items():\n",
    "            output_file = os.path.join(save_dir, f\"{split}.json\")\n",
    "            data = ds.to_list()\n",
    "            with open(output_file, \"w\", encoding=\"utf-8\") as f:\n",
    "                json.dump(data, f, ensure_ascii=False, indent=4)\n",
    "            print(f\"Saved {split} split to {output_file}\")\n",
    "    elif isinstance(dataset, Dataset):\n",
    "        output_file = os.path.join(save_dir, \"dataset.json\")\n",
    "        data = dataset.to_list()\n",
    "        with open(output_file, \"w\", encoding=\"utf-8\") as f:\n",
    "            json.dump(data, f, ensure_ascii=False, indent=4)\n",
    "        print(f\"Saved dataset to {output_file}\")\n",
    "    else:\n",
    "        raise ValueError(\"Invalid dataset format. Must be a Hugging Face Dataset or DatasetDict.\")\n",
    "\n",
    "# Example usage:\n",
    "# save_hf_dataset_to_json(\"squad\")  # Saves in \"squad/\" directory\n",
    "# save_hf_dataset_to_json(\"cnn_dailymail\", \"news_data\")  # Saves in \"news_data/\" directory\n"
   ]
  },
  {
   "cell_type": "code",
   "execution_count": 30,
   "metadata": {},
   "outputs": [
    {
     "name": "stdout",
     "output_type": "stream",
     "text": [
      "Saved train split to E:/projects/SolveItEasy/data/GSM8K/gsm8k_vietnamese\\train.json\n",
      "Saved test split to E:/projects/SolveItEasy/data/GSM8K/gsm8k_vietnamese\\test.json\n",
      "Saved val split to E:/projects/SolveItEasy/data/GSM8K/gsm8k_vietnamese\\val.json\n"
     ]
    }
   ],
   "source": [
    "save_hf_dataset_to_json('namfam/gsm8k-vietnamese', 'E:/projects/SolveItEasy/data/GSM8K/gsm8k_vietnamese')"
   ]
  },
  {
   "cell_type": "code",
   "execution_count": 31,
   "metadata": {},
   "outputs": [],
   "source": [
    "from datasets import load_dataset\n",
    "import os\n",
    "\n",
    "def load_hf_dataset_from_json(save_dir: str):\n",
    "    \"\"\"\n",
    "    Load a Hugging Face dataset from JSON files.\n",
    "\n",
    "    Args:\n",
    "        save_dir (str): Directory containing JSON files.\n",
    "\n",
    "    Returns:\n",
    "        DatasetDict or Dataset: Loaded dataset.\n",
    "    \"\"\"\n",
    "    json_files = [f for f in os.listdir(save_dir) if f.endswith(\".json\")]\n",
    "\n",
    "    if len(json_files) == 1:\n",
    "        # If only one dataset file exists, load it as a single Dataset\n",
    "        dataset = load_dataset(\"json\", data_files=os.path.join(save_dir, json_files[0]))\n",
    "    else:\n",
    "        # If multiple JSON files exist (splits), load them into a DatasetDict\n",
    "        data_files = {file.replace(\".json\", \"\"): os.path.join(save_dir, file) for file in json_files}\n",
    "        dataset = load_dataset(\"json\", data_files=data_files)\n",
    "    \n",
    "    return dataset\n",
    "\n",
    "# Example usage:\n",
    "# dataset = load_hf_dataset_from_json(\"output_dir\")\n",
    "# print(dataset)\n"
   ]
  },
  {
   "cell_type": "code",
   "execution_count": 32,
   "metadata": {},
   "outputs": [
    {
     "data": {
      "application/vnd.jupyter.widget-view+json": {
       "model_id": "43b2977d2b5147e48690135a33e3f042",
       "version_major": 2,
       "version_minor": 0
      },
      "text/plain": [
       "Generating test split: 0 examples [00:00, ? examples/s]"
      ]
     },
     "metadata": {},
     "output_type": "display_data"
    },
    {
     "data": {
      "application/vnd.jupyter.widget-view+json": {
       "model_id": "057b306f0d8b4dc9a74601a8ce915794",
       "version_major": 2,
       "version_minor": 0
      },
      "text/plain": [
       "Generating train split: 0 examples [00:00, ? examples/s]"
      ]
     },
     "metadata": {},
     "output_type": "display_data"
    },
    {
     "data": {
      "application/vnd.jupyter.widget-view+json": {
       "model_id": "3790b9345b2749988ca420d7c15a9e1f",
       "version_major": 2,
       "version_minor": 0
      },
      "text/plain": [
       "Generating val split: 0 examples [00:00, ? examples/s]"
      ]
     },
     "metadata": {},
     "output_type": "display_data"
    }
   ],
   "source": [
    "dataset = load_hf_dataset_from_json(\"E:/projects/SolveItEasy/data/GSM8K/gsm8k_vietnamese\")"
   ]
  },
  {
   "cell_type": "code",
   "execution_count": null,
   "metadata": {},
   "outputs": [],
   "source": []
  },
  {
   "cell_type": "code",
   "execution_count": 195,
   "metadata": {},
   "outputs": [],
   "source": [
    "from datasets import load_dataset"
   ]
  },
  {
   "cell_type": "code",
   "execution_count": 196,
   "metadata": {},
   "outputs": [],
   "source": [
    "gsm8k_en = load_dataset('openai/gsm8k', 'main')"
   ]
  },
  {
   "cell_type": "code",
   "execution_count": 197,
   "metadata": {},
   "outputs": [],
   "source": [
    "gsm8k_en['train'] = gsm8k_en['train'].add_column(\"index\", list(range(len(gsm8k_en['train']))))\n",
    "gsm8k_en['test'] = gsm8k_en['test'].add_column(\"index\", list(range(len(gsm8k_en['test']))))"
   ]
  },
  {
   "cell_type": "code",
   "execution_count": 201,
   "metadata": {},
   "outputs": [
    {
     "data": {
      "text/plain": [
       "{'question': 'A craft store makes a third of its sales in the fabric section, a quarter of its sales in the jewelry section, and the rest in the stationery section. They made 36 sales today. How many sales were in the stationery section?',\n",
       " 'answer': 'The craft store made 36 / 3 = <<36/3=12>>12 sales in the fabric section.\\nIt made 36 / 4 = <<36/4=9>>9 sales in the jewelry section.\\nThus, there were 36 - 12 - 9 = <<36-12-9=15>>15 sales in the stationery section.\\n#### 15',\n",
       " 'index': 100}"
      ]
     },
     "execution_count": 201,
     "metadata": {},
     "output_type": "execute_result"
    }
   ],
   "source": [
    "gsm8k_en['train'][100]"
   ]
  },
  {
   "cell_type": "code",
   "execution_count": 199,
   "metadata": {},
   "outputs": [
    {
     "name": "stdout",
     "output_type": "stream",
     "text": [
      "The craft store made 36 / 3 = <<36/3=12>>12 sales in the fabric section.\n",
      "It made 36 / 4 = <<36/4=9>>9 sales in the jewelry section.\n",
      "Thus, there were 36 - 12 - 9 = <<36-12-9=15>>15 sales in the stationery section.\n"
     ]
    }
   ],
   "source": [
    "print(gsm8k_en['train'][100]['answer'].split('####')[0].strip())"
   ]
  },
  {
   "cell_type": "code",
   "execution_count": 200,
   "metadata": {},
   "outputs": [
    {
     "name": "stdout",
     "output_type": "stream",
     "text": [
      "15\n"
     ]
    }
   ],
   "source": [
    "print(gsm8k_en['train'][100]['answer'].split('####')[1].strip())"
   ]
  },
  {
   "cell_type": "code",
   "execution_count": 202,
   "metadata": {},
   "outputs": [
    {
     "data": {
      "text/plain": [
       "['question', 'answer', 'index']"
      ]
     },
     "execution_count": 202,
     "metadata": {},
     "output_type": "execute_result"
    }
   ],
   "source": [
    "gsm8k_en['train'].column_names"
   ]
  },
  {
   "cell_type": "code",
   "execution_count": 203,
   "metadata": {},
   "outputs": [],
   "source": [
    "def transform(example):\n",
    "    explanation = example['answer'].split('####')[0].strip()\n",
    "    answer = example['answer'].split('####')[1].strip()\n",
    "    return {\n",
    "        \"index\": example['index'],\n",
    "        \"problem\": example[\"question\"],\n",
    "        \"solution\": f\"Explanation:\\n{explanation}\\nAnswer:\\n{answer}\",\n",
    "        \"answer\": answer\n",
    "    }\n",
    "\n",
    "# Apply transformation\n",
    "new_gsm8k_en = gsm8k_en.map(transform, remove_columns=gsm8k_en['train'].column_names)"
   ]
  },
  {
   "cell_type": "code",
   "execution_count": 204,
   "metadata": {},
   "outputs": [
    {
     "data": {
      "text/plain": [
       "DatasetDict({\n",
       "    train: Dataset({\n",
       "        features: ['answer', 'index', 'problem', 'solution'],\n",
       "        num_rows: 7473\n",
       "    })\n",
       "    test: Dataset({\n",
       "        features: ['answer', 'index', 'problem', 'solution'],\n",
       "        num_rows: 1319\n",
       "    })\n",
       "})"
      ]
     },
     "execution_count": 204,
     "metadata": {},
     "output_type": "execute_result"
    }
   ],
   "source": [
    "new_gsm8k_en"
   ]
  },
  {
   "cell_type": "code",
   "execution_count": 209,
   "metadata": {},
   "outputs": [
    {
     "data": {
      "text/plain": [
       "{'answer': '121',\n",
       " 'index': 10,\n",
       " 'problem': 'A deep-sea monster rises from the waters once every hundred years to feast on a ship and sate its hunger. Over three hundred years, it has consumed 847 people. Ships have been built larger over time, so each new ship has twice as many people as the last ship. How many people were on the ship the monster ate in the first hundred years?',\n",
       " 'solution': 'Explanation:\\nLet S be the number of people on the first hundred years’ ship.\\nThe second hundred years’ ship had twice as many as the first, so it had 2S people.\\nThe third hundred years’ ship had twice as many as the second, so it had 2 * 2S = <<2*2=4>>4S people.\\nAll the ships had S + 2S + 4S = 7S = 847 people.\\nThus, the ship that the monster ate in the first hundred years had S = 847 / 7 = <<847/7=121>>121 people on it.\\nAnswer:\\n121'}"
      ]
     },
     "execution_count": 209,
     "metadata": {},
     "output_type": "execute_result"
    }
   ],
   "source": [
    "new_gsm8k_en['train'][10]"
   ]
  },
  {
   "cell_type": "code",
   "execution_count": 210,
   "metadata": {},
   "outputs": [],
   "source": [
    "gsm8k_en = new_gsm8k_en\n",
    "# Splitting the dataset\n",
    "val_ratio = 0.1\n",
    "seed=202502\n",
    "# train_test_split = hf_dataset.train_test_split(test_size=test_ratio, seed=seed)\n",
    "train_val_split = gsm8k_en[\"train\"].shuffle(seed=seed).train_test_split(test_size=val_ratio, seed=seed)  # 0.25 x 0.8 = 0.2\n",
    "\n",
    "# Create DatasetDict\n",
    "gsm8k_en = DatasetDict({\n",
    "    \"train\": train_val_split[\"train\"],\n",
    "    \"val\": train_val_split[\"test\"],\n",
    "    \"test\": gsm8k_en[\"test\"]\n",
    "})"
   ]
  },
  {
   "cell_type": "code",
   "execution_count": 211,
   "metadata": {},
   "outputs": [
    {
     "data": {
      "text/plain": [
       "DatasetDict({\n",
       "    train: Dataset({\n",
       "        features: ['answer', 'index', 'problem', 'solution'],\n",
       "        num_rows: 6725\n",
       "    })\n",
       "    val: Dataset({\n",
       "        features: ['answer', 'index', 'problem', 'solution'],\n",
       "        num_rows: 748\n",
       "    })\n",
       "    test: Dataset({\n",
       "        features: ['answer', 'index', 'problem', 'solution'],\n",
       "        num_rows: 1319\n",
       "    })\n",
       "})"
      ]
     },
     "execution_count": 211,
     "metadata": {},
     "output_type": "execute_result"
    }
   ],
   "source": [
    "gsm8k_en"
   ]
  },
  {
   "cell_type": "code",
   "execution_count": 213,
   "metadata": {},
   "outputs": [
    {
     "data": {
      "text/plain": [
       "{'answer': '70',\n",
       " 'index': 6163,\n",
       " 'problem': \"The sum of the three angles of a triangle equals 250. The left angle is twice the right angle's value, and the right angle is 60 degrees. Find the value of the top angle?\",\n",
       " 'solution': 'Explanation:\\nSince the left angle is twice the value of the right angle, the left angle is 60*2 = <<60*2=120>>120 degrees.\\nThe total value of the left and right angles is 120+60 = <<120+60=180>>180 degrees.\\nSince the sum of the three angles is equal to 250, the other angle has a value of 250-180 = <<250-180=70>>70 degrees.\\nAnswer:\\n70'}"
      ]
     },
     "execution_count": 213,
     "metadata": {},
     "output_type": "execute_result"
    }
   ],
   "source": [
    "gsm8k_en['val'][2]"
   ]
  },
  {
   "cell_type": "code",
   "execution_count": 216,
   "metadata": {},
   "outputs": [
    {
     "data": {
      "application/vnd.jupyter.widget-view+json": {
       "model_id": "cba943be222c46509e38bc3609c444cf",
       "version_major": 2,
       "version_minor": 0
      },
      "text/plain": [
       "Uploading the dataset shards:   0%|          | 0/1 [00:00<?, ?it/s]"
      ]
     },
     "metadata": {},
     "output_type": "display_data"
    },
    {
     "data": {
      "application/vnd.jupyter.widget-view+json": {
       "model_id": "52e89a2a97b3440ebec963e2f8be2ca6",
       "version_major": 2,
       "version_minor": 0
      },
      "text/plain": [
       "Creating parquet from Arrow format:   0%|          | 0/7 [00:00<?, ?ba/s]"
      ]
     },
     "metadata": {},
     "output_type": "display_data"
    },
    {
     "data": {
      "application/vnd.jupyter.widget-view+json": {
       "model_id": "8b1d68f21f294b4293f143d4e77735dc",
       "version_major": 2,
       "version_minor": 0
      },
      "text/plain": [
       "Uploading the dataset shards:   0%|          | 0/1 [00:00<?, ?it/s]"
      ]
     },
     "metadata": {},
     "output_type": "display_data"
    },
    {
     "data": {
      "application/vnd.jupyter.widget-view+json": {
       "model_id": "1d6070cb5f7743ada8bf9f5aac1c9c34",
       "version_major": 2,
       "version_minor": 0
      },
      "text/plain": [
       "Creating parquet from Arrow format:   0%|          | 0/1 [00:00<?, ?ba/s]"
      ]
     },
     "metadata": {},
     "output_type": "display_data"
    },
    {
     "data": {
      "application/vnd.jupyter.widget-view+json": {
       "model_id": "7de42eae83304d82965f56ccb156e584",
       "version_major": 2,
       "version_minor": 0
      },
      "text/plain": [
       "Uploading the dataset shards:   0%|          | 0/1 [00:00<?, ?it/s]"
      ]
     },
     "metadata": {},
     "output_type": "display_data"
    },
    {
     "data": {
      "application/vnd.jupyter.widget-view+json": {
       "model_id": "950d294b5c404c87a3b4d5473baacf99",
       "version_major": 2,
       "version_minor": 0
      },
      "text/plain": [
       "Creating parquet from Arrow format:   0%|          | 0/2 [00:00<?, ?ba/s]"
      ]
     },
     "metadata": {},
     "output_type": "display_data"
    },
    {
     "data": {
      "text/plain": [
       "CommitInfo(commit_url='https://huggingface.co/datasets/namfam/gsm8k-english/commit/3363fbd2541ccd2feda9390d71ee5f3da0714462', commit_message='Upload dataset', commit_description='', oid='3363fbd2541ccd2feda9390d71ee5f3da0714462', pr_url=None, repo_url=RepoUrl('https://huggingface.co/datasets/namfam/gsm8k-english', endpoint='https://huggingface.co', repo_type='dataset', repo_id='namfam/gsm8k-english'), pr_revision=None, pr_num=None)"
      ]
     },
     "execution_count": 216,
     "metadata": {},
     "output_type": "execute_result"
    }
   ],
   "source": [
    "gsm8k_en.push_to_hub('namfam/gsm8k-english')"
   ]
  },
  {
   "cell_type": "code",
   "execution_count": 217,
   "metadata": {},
   "outputs": [
    {
     "data": {
      "application/vnd.jupyter.widget-view+json": {
       "model_id": "ac71f6304e044bcea977ee29fc641384",
       "version_major": 2,
       "version_minor": 0
      },
      "text/plain": [
       "README.md:   0%|          | 0.00/599 [00:00<?, ?B/s]"
      ]
     },
     "metadata": {},
     "output_type": "display_data"
    },
    {
     "data": {
      "application/vnd.jupyter.widget-view+json": {
       "model_id": "75e9a5fc128f4ad481fad1970c8b3496",
       "version_major": 2,
       "version_minor": 0
      },
      "text/plain": [
       "train-00000-of-00001.parquet:   0%|          | 0.00/2.13M [00:00<?, ?B/s]"
      ]
     },
     "metadata": {},
     "output_type": "display_data"
    },
    {
     "data": {
      "application/vnd.jupyter.widget-view+json": {
       "model_id": "52f22352ec7e4f629ecb7705be578b30",
       "version_major": 2,
       "version_minor": 0
      },
      "text/plain": [
       "val-00000-of-00001.parquet:   0%|          | 0.00/243k [00:00<?, ?B/s]"
      ]
     },
     "metadata": {},
     "output_type": "display_data"
    },
    {
     "data": {
      "application/vnd.jupyter.widget-view+json": {
       "model_id": "4451caa245164b73851debedbb5e7ac0",
       "version_major": 2,
       "version_minor": 0
      },
      "text/plain": [
       "test-00000-of-00001.parquet:   0%|          | 0.00/430k [00:00<?, ?B/s]"
      ]
     },
     "metadata": {},
     "output_type": "display_data"
    },
    {
     "data": {
      "application/vnd.jupyter.widget-view+json": {
       "model_id": "e054a136e6ae40ddbe24b6514a6a43dd",
       "version_major": 2,
       "version_minor": 0
      },
      "text/plain": [
       "Generating train split:   0%|          | 0/6725 [00:00<?, ? examples/s]"
      ]
     },
     "metadata": {},
     "output_type": "display_data"
    },
    {
     "data": {
      "application/vnd.jupyter.widget-view+json": {
       "model_id": "b9154b0f790b4ac69b10edb3e50c2d65",
       "version_major": 2,
       "version_minor": 0
      },
      "text/plain": [
       "Generating val split:   0%|          | 0/748 [00:00<?, ? examples/s]"
      ]
     },
     "metadata": {},
     "output_type": "display_data"
    },
    {
     "data": {
      "application/vnd.jupyter.widget-view+json": {
       "model_id": "7f1e89c9ee8a498e97fd36db953463ac",
       "version_major": 2,
       "version_minor": 0
      },
      "text/plain": [
       "Generating test split:   0%|          | 0/1319 [00:00<?, ? examples/s]"
      ]
     },
     "metadata": {},
     "output_type": "display_data"
    },
    {
     "name": "stdout",
     "output_type": "stream",
     "text": [
      "Saved train split to E:/projects/SolveItEasy/data/GSM8K/gsm8k_english\\train.json\n",
      "Saved val split to E:/projects/SolveItEasy/data/GSM8K/gsm8k_english\\val.json\n",
      "Saved test split to E:/projects/SolveItEasy/data/GSM8K/gsm8k_english\\test.json\n"
     ]
    }
   ],
   "source": [
    "save_hf_dataset_to_json('namfam/gsm8k-english', 'E:/projects/SolveItEasy/data/GSM8K/gsm8k_english')"
   ]
  },
  {
   "cell_type": "code",
   "execution_count": 218,
   "metadata": {},
   "outputs": [],
   "source": [
    "gmsk_vi = load_dataset('namfam/gsm8k-vietnamese')"
   ]
  },
  {
   "cell_type": "code",
   "execution_count": 219,
   "metadata": {},
   "outputs": [
    {
     "data": {
      "text/plain": [
       "DatasetDict({\n",
       "    train: Dataset({\n",
       "        features: ['index', 'answer', 'problem', 'solution'],\n",
       "        num_rows: 6725\n",
       "    })\n",
       "    test: Dataset({\n",
       "        features: ['index', 'answer', 'problem', 'solution'],\n",
       "        num_rows: 1319\n",
       "    })\n",
       "    val: Dataset({\n",
       "        features: ['index', 'answer', 'problem', 'solution'],\n",
       "        num_rows: 748\n",
       "    })\n",
       "})"
      ]
     },
     "execution_count": 219,
     "metadata": {},
     "output_type": "execute_result"
    }
   ],
   "source": [
    "gmsk_vi"
   ]
  },
  {
   "cell_type": "code",
   "execution_count": 220,
   "metadata": {},
   "outputs": [
    {
     "data": {
      "text/plain": [
       "{'index': 6163,\n",
       " 'answer': '70',\n",
       " 'problem': 'Tổng ba góc của một tam giác bằng 250 độ. Góc bên trái gấp đôi giá trị của góc bên phải và góc bên phải là 60 độ. Tìm giá trị của góc đỉnh?',\n",
       " 'solution': 'Explanation:\\nVì góc bên trái gấp đôi góc bên phải, nên góc bên trái có giá trị là 60*2 = 120 độ.\\nTổng giá trị của góc bên trái và góc bên phải là 120+60 = 180 độ.\\nVì tổng ba góc bằng 250 độ, nên góc còn lại có giá trị là 250-180 = 70 độ.\\nAnswer:\\n70'}"
      ]
     },
     "execution_count": 220,
     "metadata": {},
     "output_type": "execute_result"
    }
   ],
   "source": [
    "gmsk_vi['val'][2]"
   ]
  },
  {
   "cell_type": "code",
   "execution_count": 221,
   "metadata": {},
   "outputs": [
    {
     "data": {
      "text/plain": [
       "{'answer': '70',\n",
       " 'index': 6163,\n",
       " 'problem': \"The sum of the three angles of a triangle equals 250. The left angle is twice the right angle's value, and the right angle is 60 degrees. Find the value of the top angle?\",\n",
       " 'solution': 'Explanation:\\nSince the left angle is twice the value of the right angle, the left angle is 60*2 = <<60*2=120>>120 degrees.\\nThe total value of the left and right angles is 120+60 = <<120+60=180>>180 degrees.\\nSince the sum of the three angles is equal to 250, the other angle has a value of 250-180 = <<250-180=70>>70 degrees.\\nAnswer:\\n70'}"
      ]
     },
     "execution_count": 221,
     "metadata": {},
     "output_type": "execute_result"
    }
   ],
   "source": [
    "gsm8k_en['val'][2]"
   ]
  },
  {
   "cell_type": "code",
   "execution_count": 222,
   "metadata": {},
   "outputs": [
    {
     "name": "stdout",
     "output_type": "stream",
     "text": [
      "{'index': 99, 'answer': '3', 'problem': 'Gail có hai bể cá. Bể thứ nhất gấp đôi kích thước của bể thứ hai. Có 48 gallon nước trong bể thứ nhất. Cô ấy tuân theo quy tắc một gallon nước cho mỗi inch cá. Nếu cô ấy giữ cá 2 inch trong bể thứ hai và cá 3 inch trong bể thứ nhất, cô ấy sẽ có bao nhiêu cá hơn trong bể thứ nhất so với bể thứ hai nếu một con cá trong bể thứ nhất ăn mất một con cá khác?', 'solution': 'Explanation:\\nBể thứ hai có dung tích 24 gallon vì 48 chia 2 bằng 24.\\nTheo quy tắc của Gail, cô ấy nuôi 12 con cá dài 2 inch trong bể thứ hai vì 24 chia 2 bằng 12.\\nCô ấy nuôi 16 con cá trong bể thứ nhất vì 48 chia 3 bằng 16.\\nNếu một con cá trong bể thứ nhất ăn mất một con cá khác, cô ấy sẽ có 15 con cá trong bể thứ nhất.\\nDo đó, Gail sẽ có thêm 3 con cá trong bể thứ nhất.\\nAnswer:\\n3'}\n"
     ]
    }
   ],
   "source": [
    "for item in gmsk_vi['train']:\n",
    "    if item['index'] == 99:\n",
    "        print(item)"
   ]
  },
  {
   "cell_type": "code",
   "execution_count": 223,
   "metadata": {},
   "outputs": [
    {
     "name": "stdout",
     "output_type": "stream",
     "text": [
      "{'question': 'Gail has two fish tanks. The first tank is twice the size of the second tank. There are 48 gallons of water in the first tank. She follows the rule of one gallon of water per inch of fish. If she keeps two-inch fish in the second tank and three-inch fish in the first tank, how many more fish would Gail have in the first tank than the second tank if one of the first tank fish eats another?', 'answer': 'The second tank is 48 / 2 = <<48/2=24>>24 gallons.\\nFollowing her rule, Gail keeps 24 / 2 = <<24/2=12>>12 two-inch fish in the second tank.\\nShe keeps 48 / 3 = <<48/3=16>>16 fish in the first tank.\\nIf one fish in the first tank ate another, she would have 16 - 1 = <<16-1=15>>15 fish in the first tank.\\nThus, Gail would have 15 - 12 = <<15-12=3>>3 more fish in the first tank.\\n#### 3', 'index': 99}\n"
     ]
    }
   ],
   "source": [
    "for item in ds:\n",
    "    if item['index'] == 99:\n",
    "        print(item)"
   ]
  },
  {
   "cell_type": "code",
   "execution_count": null,
   "metadata": {},
   "outputs": [],
   "source": []
  }
 ],
 "metadata": {
  "kernelspec": {
   "display_name": "env-01",
   "language": "python",
   "name": "python3"
  },
  "language_info": {
   "codemirror_mode": {
    "name": "ipython",
    "version": 3
   },
   "file_extension": ".py",
   "mimetype": "text/x-python",
   "name": "python",
   "nbconvert_exporter": "python",
   "pygments_lexer": "ipython3",
   "version": "3.11.10"
  }
 },
 "nbformat": 4,
 "nbformat_minor": 2
}
