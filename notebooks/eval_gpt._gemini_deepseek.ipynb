{
 "cells": [
  {
   "cell_type": "code",
   "execution_count": 1,
   "metadata": {},
   "outputs": [
    {
     "data": {
      "text/plain": [
       "True"
      ]
     },
     "execution_count": 1,
     "metadata": {},
     "output_type": "execute_result"
    }
   ],
   "source": [
    "from dotenv import load_dotenv\n",
    "load_dotenv()"
   ]
  },
  {
   "cell_type": "code",
   "execution_count": 2,
   "metadata": {},
   "outputs": [],
   "source": [
    "import os\n",
    "from litellm import batch_completion"
   ]
  },
  {
   "cell_type": "code",
   "execution_count": 3,
   "metadata": {},
   "outputs": [],
   "source": [
    "model_zoo = [\n",
    "    'gpt-4o-mini',\n",
    "    'gpt-4o',\n",
    "    \n",
    "]"
   ]
  },
  {
   "cell_type": "code",
   "execution_count": 4,
   "metadata": {},
   "outputs": [],
   "source": [
    "responses = batch_completion(\n",
    "    model=\"gemini/gemini-2.0-flash\",\n",
    "    messages = [\n",
    "        [\n",
    "            {\n",
    "                \"role\": \"user\",\n",
    "                \"content\": \"good morning? \"\n",
    "            }\n",
    "        ],\n",
    "        [\n",
    "            {\n",
    "                \"role\": \"user\",\n",
    "                \"content\": \"what's the time? \"\n",
    "            }\n",
    "        ]\n",
    "    ]\n",
    ")"
   ]
  },
  {
   "cell_type": "code",
   "execution_count": 5,
   "metadata": {},
   "outputs": [
    {
     "data": {
      "text/plain": [
       "[ModelResponse(id='chatcmpl-48195f80-1450-4f59-ac38-eb48e1857381', choices=[Choices(finish_reason='stop', index=0, message=Message(content='Good morning! How can I help you today?\\n', role='assistant'))], created=1741969191, model='gemini/gemini-2.0-flash', object='chat.completion', system_fingerprint=None, usage=Usage(prompt_tokens=4, completion_tokens=10, total_tokens=14)),\n",
       " ModelResponse(id='chatcmpl-7f4710b2-3bd6-4375-89ac-9f0f35a920b7', choices=[Choices(finish_reason='stop', index=0, message=Message(content='To give you the exact time, I need to know your location!  Could you tell me where you are?\\n', role='assistant'))], created=1741969190, model='gemini/gemini-2.0-flash', object='chat.completion', system_fingerprint=None, usage=Usage(prompt_tokens=6, completion_tokens=23, total_tokens=29))]"
      ]
     },
     "execution_count": 5,
     "metadata": {},
     "output_type": "execute_result"
    }
   ],
   "source": [
    "responses"
   ]
  },
  {
   "cell_type": "code",
   "execution_count": 6,
   "metadata": {},
   "outputs": [
    {
     "data": {
      "text/plain": [
       "['Good morning! How can I help you today?\\n',\n",
       " 'To give you the exact time, I need to know your location!  Could you tell me where you are?\\n']"
      ]
     },
     "execution_count": 6,
     "metadata": {},
     "output_type": "execute_result"
    }
   ],
   "source": [
    "answers = [response.choices[0].message['content'] for response in responses]\n",
    "answers"
   ]
  },
  {
   "cell_type": "code",
   "execution_count": null,
   "metadata": {},
   "outputs": [],
   "source": []
  }
 ],
 "metadata": {
  "kernelspec": {
   "display_name": "env-01",
   "language": "python",
   "name": "python3"
  },
  "language_info": {
   "codemirror_mode": {
    "name": "ipython",
    "version": 3
   },
   "file_extension": ".py",
   "mimetype": "text/x-python",
   "name": "python",
   "nbconvert_exporter": "python",
   "pygments_lexer": "ipython3",
   "version": "3.11.10"
  }
 },
 "nbformat": 4,
 "nbformat_minor": 2
}
