{
 "cells": [
  {
   "cell_type": "code",
   "execution_count": 1,
   "metadata": {},
   "outputs": [
    {
     "data": {
      "text/plain": [
       "True"
      ]
     },
     "execution_count": 1,
     "metadata": {},
     "output_type": "execute_result"
    }
   ],
   "source": [
    "from dotenv import load_dotenv\n",
    "load_dotenv()"
   ]
  },
  {
   "cell_type": "code",
   "execution_count": 2,
   "metadata": {},
   "outputs": [],
   "source": [
    "import os\n",
    "from huggingface_hub import login\n",
    "login(token=os.environ['HUGGINGFACEHUB_API_TOKEN'])"
   ]
  },
  {
   "cell_type": "code",
   "execution_count": 3,
   "metadata": {},
   "outputs": [],
   "source": [
    "from datasets import load_dataset"
   ]
  },
  {
   "cell_type": "code",
   "execution_count": 4,
   "metadata": {},
   "outputs": [
    {
     "data": {
      "application/vnd.jupyter.widget-view+json": {
       "model_id": "9bac0cd9284c434b86287c1f7f65e782",
       "version_major": 2,
       "version_minor": 0
      },
      "text/plain": [
       "README.md:   0%|          | 0.00/574 [00:00<?, ?B/s]"
      ]
     },
     "metadata": {},
     "output_type": "display_data"
    },
    {
     "name": "stderr",
     "output_type": "stream",
     "text": [
      "c:\\Users\\NamFam\\anaconda3\\envs\\env-01\\Lib\\site-packages\\huggingface_hub\\file_download.py:140: UserWarning: `huggingface_hub` cache-system uses symlinks by default to efficiently store duplicated files but your machine does not support them in C:\\Users\\NamFam\\.cache\\huggingface\\hub\\datasets--namfam--gsm8k-vietnamese. Caching files will still work but in a degraded version that might require more space on your disk. This warning can be disabled by setting the `HF_HUB_DISABLE_SYMLINKS_WARNING` environment variable. For more details, see https://huggingface.co/docs/huggingface_hub/how-to-cache#limitations.\n",
      "To support symlinks on Windows, you either need to activate Developer Mode or to run Python as an administrator. In order to activate developer mode, see this article: https://docs.microsoft.com/en-us/windows/apps/get-started/enable-your-device-for-development\n",
      "  warnings.warn(message)\n"
     ]
    },
    {
     "data": {
      "application/vnd.jupyter.widget-view+json": {
       "model_id": "9a91a4acb0314d6482b3c75484725382",
       "version_major": 2,
       "version_minor": 0
      },
      "text/plain": [
       "train-00000-of-00001.parquet:   0%|          | 0.00/2.16M [00:00<?, ?B/s]"
      ]
     },
     "metadata": {},
     "output_type": "display_data"
    },
    {
     "data": {
      "application/vnd.jupyter.widget-view+json": {
       "model_id": "c9ab47cef4b047b69d80e70d318ec928",
       "version_major": 2,
       "version_minor": 0
      },
      "text/plain": [
       "test-00000-of-00001.parquet:   0%|          | 0.00/441k [00:00<?, ?B/s]"
      ]
     },
     "metadata": {},
     "output_type": "display_data"
    },
    {
     "data": {
      "application/vnd.jupyter.widget-view+json": {
       "model_id": "fff8419c9acb486a9f482a26df6fee32",
       "version_major": 2,
       "version_minor": 0
      },
      "text/plain": [
       "val-00000-of-00001.parquet:   0%|          | 0.00/250k [00:00<?, ?B/s]"
      ]
     },
     "metadata": {},
     "output_type": "display_data"
    },
    {
     "data": {
      "application/vnd.jupyter.widget-view+json": {
       "model_id": "a02fae5e53af4a32884cc84453ca6151",
       "version_major": 2,
       "version_minor": 0
      },
      "text/plain": [
       "Generating train split:   0%|          | 0/6725 [00:00<?, ? examples/s]"
      ]
     },
     "metadata": {},
     "output_type": "display_data"
    },
    {
     "data": {
      "application/vnd.jupyter.widget-view+json": {
       "model_id": "45659a14625f4fd184e5ab04038e1d0f",
       "version_major": 2,
       "version_minor": 0
      },
      "text/plain": [
       "Generating test split:   0%|          | 0/1319 [00:00<?, ? examples/s]"
      ]
     },
     "metadata": {},
     "output_type": "display_data"
    },
    {
     "data": {
      "application/vnd.jupyter.widget-view+json": {
       "model_id": "d946eeecb4804f0ea14057541ea2fdc7",
       "version_major": 2,
       "version_minor": 0
      },
      "text/plain": [
       "Generating val split:   0%|          | 0/748 [00:00<?, ? examples/s]"
      ]
     },
     "metadata": {},
     "output_type": "display_data"
    }
   ],
   "source": [
    "data = load_dataset('namfam/gsm8k-vietnamese')"
   ]
  },
  {
   "cell_type": "code",
   "execution_count": 5,
   "metadata": {},
   "outputs": [],
   "source": [
    "import json\n",
    "\n",
    "# Assuming `data` is a DatasetDict\n",
    "dataset_split = data[\"train\"]  # or \"test\", \"validation\", etc."
   ]
  },
  {
   "cell_type": "code",
   "execution_count": 6,
   "metadata": {},
   "outputs": [],
   "source": [
    "# Convert to JSON (list of dictionaries)\n",
    "json_data = dataset_split.to_pandas()"
   ]
  },
  {
   "cell_type": "code",
   "execution_count": 7,
   "metadata": {},
   "outputs": [
    {
     "data": {
      "text/html": [
       "<div>\n",
       "<style scoped>\n",
       "    .dataframe tbody tr th:only-of-type {\n",
       "        vertical-align: middle;\n",
       "    }\n",
       "\n",
       "    .dataframe tbody tr th {\n",
       "        vertical-align: top;\n",
       "    }\n",
       "\n",
       "    .dataframe thead th {\n",
       "        text-align: right;\n",
       "    }\n",
       "</style>\n",
       "<table border=\"1\" class=\"dataframe\">\n",
       "  <thead>\n",
       "    <tr style=\"text-align: right;\">\n",
       "      <th></th>\n",
       "      <th>index</th>\n",
       "      <th>answer</th>\n",
       "      <th>problem</th>\n",
       "      <th>solution</th>\n",
       "    </tr>\n",
       "  </thead>\n",
       "  <tbody>\n",
       "    <tr>\n",
       "      <th>0</th>\n",
       "      <td>4691</td>\n",
       "      <td>570</td>\n",
       "      <td>Jerry được thuê để làm việc trên một ngôi nhà ...</td>\n",
       "      <td>Solution:\\nReason:\\nJerry mất 24 giờ để sửa cá...</td>\n",
       "    </tr>\n",
       "    <tr>\n",
       "      <th>1</th>\n",
       "      <td>4614</td>\n",
       "      <td>150</td>\n",
       "      <td>Yasmin đã gửi một chiếc séc sinh nhật trị giá ...</td>\n",
       "      <td>Solution:\\nReason:\\nSố tiền 50 đô la trên chiế...</td>\n",
       "    </tr>\n",
       "    <tr>\n",
       "      <th>2</th>\n",
       "      <td>7081</td>\n",
       "      <td>19</td>\n",
       "      <td>Một giáo viên đã mua một số dụng cụ học tập vớ...</td>\n",
       "      <td>Solution:\\nReason:\\nNgân sách tổng của giáo vi...</td>\n",
       "    </tr>\n",
       "    <tr>\n",
       "      <th>3</th>\n",
       "      <td>5434</td>\n",
       "      <td>274</td>\n",
       "      <td>Kylie và Kayla hái táo cùng nhau và mang về nh...</td>\n",
       "      <td>Solution:\\nReason:\\nKylie đã hái được 66 quả t...</td>\n",
       "    </tr>\n",
       "    <tr>\n",
       "      <th>4</th>\n",
       "      <td>2504</td>\n",
       "      <td>70</td>\n",
       "      <td>Elsie có một số lượng khăn ướt cụ thể trong mộ...</td>\n",
       "      <td>Solution:\\nReason:\\nSáng hôm đó, Elsie có w mi...</td>\n",
       "    </tr>\n",
       "    <tr>\n",
       "      <th>...</th>\n",
       "      <td>...</td>\n",
       "      <td>...</td>\n",
       "      <td>...</td>\n",
       "      <td>...</td>\n",
       "    </tr>\n",
       "    <tr>\n",
       "      <th>6720</th>\n",
       "      <td>4306</td>\n",
       "      <td>23</td>\n",
       "      <td>Có 920 con nai trong một công viên. 10% số nai...</td>\n",
       "      <td>Solution:\\nReason:\\nĐầu tiên tìm số lượng nai ...</td>\n",
       "    </tr>\n",
       "    <tr>\n",
       "      <th>6721</th>\n",
       "      <td>6983</td>\n",
       "      <td>1260</td>\n",
       "      <td>Một chiếc vòng quay có thể chứa được 70 người ...</td>\n",
       "      <td>Solution:\\nReason:\\nCông Viên Vòng Quay sẽ mở ...</td>\n",
       "    </tr>\n",
       "    <tr>\n",
       "      <th>6722</th>\n",
       "      <td>2726</td>\n",
       "      <td>8</td>\n",
       "      <td>Jeremy thích chơi Scrabble. Anh ấy từng đánh m...</td>\n",
       "      <td>Solution:\\nReason:\\nSau khi từ \"score\" được nh...</td>\n",
       "    </tr>\n",
       "    <tr>\n",
       "      <th>6723</th>\n",
       "      <td>49</td>\n",
       "      <td>48</td>\n",
       "      <td>Trong chuyến đi dã ngoại đến bờ biển của trườn...</td>\n",
       "      <td>Solution:\\nReason:\\nBen đã sưu tầm được 12 vỏ ...</td>\n",
       "    </tr>\n",
       "    <tr>\n",
       "      <th>6724</th>\n",
       "      <td>3812</td>\n",
       "      <td>75</td>\n",
       "      <td>Don ném 3 phi tiêu. Một phi tiêu trúng tâm giá...</td>\n",
       "      <td>Solution:\\nReason:\\nCú tung thứ ba của Don đạt...</td>\n",
       "    </tr>\n",
       "  </tbody>\n",
       "</table>\n",
       "<p>6725 rows × 4 columns</p>\n",
       "</div>"
      ],
      "text/plain": [
       "      index answer                                            problem  \\\n",
       "0      4691    570  Jerry được thuê để làm việc trên một ngôi nhà ...   \n",
       "1      4614    150  Yasmin đã gửi một chiếc séc sinh nhật trị giá ...   \n",
       "2      7081     19  Một giáo viên đã mua một số dụng cụ học tập vớ...   \n",
       "3      5434    274  Kylie và Kayla hái táo cùng nhau và mang về nh...   \n",
       "4      2504     70  Elsie có một số lượng khăn ướt cụ thể trong mộ...   \n",
       "...     ...    ...                                                ...   \n",
       "6720   4306     23  Có 920 con nai trong một công viên. 10% số nai...   \n",
       "6721   6983   1260  Một chiếc vòng quay có thể chứa được 70 người ...   \n",
       "6722   2726      8  Jeremy thích chơi Scrabble. Anh ấy từng đánh m...   \n",
       "6723     49     48  Trong chuyến đi dã ngoại đến bờ biển của trườn...   \n",
       "6724   3812     75  Don ném 3 phi tiêu. Một phi tiêu trúng tâm giá...   \n",
       "\n",
       "                                               solution  \n",
       "0     Solution:\\nReason:\\nJerry mất 24 giờ để sửa cá...  \n",
       "1     Solution:\\nReason:\\nSố tiền 50 đô la trên chiế...  \n",
       "2     Solution:\\nReason:\\nNgân sách tổng của giáo vi...  \n",
       "3     Solution:\\nReason:\\nKylie đã hái được 66 quả t...  \n",
       "4     Solution:\\nReason:\\nSáng hôm đó, Elsie có w mi...  \n",
       "...                                                 ...  \n",
       "6720  Solution:\\nReason:\\nĐầu tiên tìm số lượng nai ...  \n",
       "6721  Solution:\\nReason:\\nCông Viên Vòng Quay sẽ mở ...  \n",
       "6722  Solution:\\nReason:\\nSau khi từ \"score\" được nh...  \n",
       "6723  Solution:\\nReason:\\nBen đã sưu tầm được 12 vỏ ...  \n",
       "6724  Solution:\\nReason:\\nCú tung thứ ba của Don đạt...  \n",
       "\n",
       "[6725 rows x 4 columns]"
      ]
     },
     "execution_count": 7,
     "metadata": {},
     "output_type": "execute_result"
    }
   ],
   "source": [
    "json_data"
   ]
  },
  {
   "cell_type": "code",
   "execution_count": 8,
   "metadata": {},
   "outputs": [],
   "source": [
    "import json\n",
    "import os\n",
    "from datasets import load_dataset, Dataset, DatasetDict\n",
    "\n",
    "def save_hf_dataset_to_json(data_id: str, save_dir: str = None):\n",
    "    \"\"\"\n",
    "    Load a Hugging Face dataset and save each split as a JSON file.\n",
    "\n",
    "    Args:\n",
    "        data_id (str): Path to the Hugging Face dataset (or dataset ID).\n",
    "        save_dir (str, optional): Directory to save JSON files. Defaults to the second part of `data_id` after '/'.\n",
    "    \"\"\"\n",
    "    # If save_dir is not specified, extract dataset name from data_id\n",
    "    if save_dir is None:\n",
    "        save_dir = data_id.split(\"/\")[-1]\n",
    "\n",
    "    # Load the dataset\n",
    "    dataset = load_dataset(data_id)\n",
    "\n",
    "    # Ensure the save directory exists\n",
    "    os.makedirs(save_dir, exist_ok=True)\n",
    "\n",
    "    # Save each split separately\n",
    "    if isinstance(dataset, DatasetDict):\n",
    "        for split, ds in dataset.items():\n",
    "            output_file = os.path.join(save_dir, f\"{split}.json\")\n",
    "            data = ds.to_list()\n",
    "            with open(output_file, \"w\", encoding=\"utf-8\") as f:\n",
    "                json.dump(data, f, ensure_ascii=False, indent=4)\n",
    "            print(f\"Saved {split} split to {output_file}\")\n",
    "    elif isinstance(dataset, Dataset):\n",
    "        output_file = os.path.join(save_dir, \"dataset.json\")\n",
    "        data = dataset.to_list()\n",
    "        with open(output_file, \"w\", encoding=\"utf-8\") as f:\n",
    "            json.dump(data, f, ensure_ascii=False, indent=4)\n",
    "        print(f\"Saved dataset to {output_file}\")\n",
    "    else:\n",
    "        raise ValueError(\"Invalid dataset format. Must be a Hugging Face Dataset or DatasetDict.\")\n",
    "\n",
    "# Example usage:\n",
    "# save_hf_dataset_to_json(\"squad\")  # Saves in \"squad/\" directory\n",
    "# save_hf_dataset_to_json(\"cnn_dailymail\", \"news_data\")  # Saves in \"news_data/\" directory\n"
   ]
  },
  {
   "cell_type": "code",
   "execution_count": 9,
   "metadata": {},
   "outputs": [
    {
     "name": "stdout",
     "output_type": "stream",
     "text": [
      "Saved train split to E:/projects/SolveItEasy/data/GSM8K/gsm8k_vietnamese\\train.json\n",
      "Saved test split to E:/projects/SolveItEasy/data/GSM8K/gsm8k_vietnamese\\test.json\n",
      "Saved val split to E:/projects/SolveItEasy/data/GSM8K/gsm8k_vietnamese\\val.json\n"
     ]
    }
   ],
   "source": [
    "save_hf_dataset_to_json('namfam/gsm8k-vietnamese', 'E:/projects/SolveItEasy/data/GSM8K/gsm8k_vietnamese')"
   ]
  },
  {
   "cell_type": "code",
   "execution_count": 31,
   "metadata": {},
   "outputs": [],
   "source": [
    "from datasets import load_dataset\n",
    "import os\n",
    "\n",
    "def load_hf_dataset_from_json(save_dir: str):\n",
    "    \"\"\"\n",
    "    Load a Hugging Face dataset from JSON files.\n",
    "\n",
    "    Args:\n",
    "        save_dir (str): Directory containing JSON files.\n",
    "\n",
    "    Returns:\n",
    "        DatasetDict or Dataset: Loaded dataset.\n",
    "    \"\"\"\n",
    "    json_files = [f for f in os.listdir(save_dir) if f.endswith(\".json\")]\n",
    "\n",
    "    if len(json_files) == 1:\n",
    "        # If only one dataset file exists, load it as a single Dataset\n",
    "        dataset = load_dataset(\"json\", data_files=os.path.join(save_dir, json_files[0]))\n",
    "    else:\n",
    "        # If multiple JSON files exist (splits), load them into a DatasetDict\n",
    "        data_files = {file.replace(\".json\", \"\"): os.path.join(save_dir, file) for file in json_files}\n",
    "        dataset = load_dataset(\"json\", data_files=data_files)\n",
    "    \n",
    "    return dataset\n",
    "\n",
    "# Example usage:\n",
    "# dataset = load_hf_dataset_from_json(\"output_dir\")\n",
    "# print(dataset)\n"
   ]
  },
  {
   "cell_type": "code",
   "execution_count": 32,
   "metadata": {},
   "outputs": [
    {
     "data": {
      "application/vnd.jupyter.widget-view+json": {
       "model_id": "43b2977d2b5147e48690135a33e3f042",
       "version_major": 2,
       "version_minor": 0
      },
      "text/plain": [
       "Generating test split: 0 examples [00:00, ? examples/s]"
      ]
     },
     "metadata": {},
     "output_type": "display_data"
    },
    {
     "data": {
      "application/vnd.jupyter.widget-view+json": {
       "model_id": "057b306f0d8b4dc9a74601a8ce915794",
       "version_major": 2,
       "version_minor": 0
      },
      "text/plain": [
       "Generating train split: 0 examples [00:00, ? examples/s]"
      ]
     },
     "metadata": {},
     "output_type": "display_data"
    },
    {
     "data": {
      "application/vnd.jupyter.widget-view+json": {
       "model_id": "3790b9345b2749988ca420d7c15a9e1f",
       "version_major": 2,
       "version_minor": 0
      },
      "text/plain": [
       "Generating val split: 0 examples [00:00, ? examples/s]"
      ]
     },
     "metadata": {},
     "output_type": "display_data"
    }
   ],
   "source": [
    "dataset = load_hf_dataset_from_json(\"E:/projects/SolveItEasy/data/GSM8K/gsm8k_vietnamese\")"
   ]
  },
  {
   "cell_type": "code",
   "execution_count": null,
   "metadata": {},
   "outputs": [],
   "source": []
  },
  {
   "cell_type": "code",
   "execution_count": 195,
   "metadata": {},
   "outputs": [],
   "source": [
    "from datasets import load_dataset"
   ]
  },
  {
   "cell_type": "code",
   "execution_count": 196,
   "metadata": {},
   "outputs": [],
   "source": [
    "gsm8k_en = load_dataset('openai/gsm8k', 'main')"
   ]
  },
  {
   "cell_type": "code",
   "execution_count": 197,
   "metadata": {},
   "outputs": [],
   "source": [
    "gsm8k_en['train'] = gsm8k_en['train'].add_column(\"index\", list(range(len(gsm8k_en['train']))))\n",
    "gsm8k_en['test'] = gsm8k_en['test'].add_column(\"index\", list(range(len(gsm8k_en['test']))))"
   ]
  },
  {
   "cell_type": "code",
   "execution_count": 201,
   "metadata": {},
   "outputs": [
    {
     "data": {
      "text/plain": [
       "{'question': 'A craft store makes a third of its sales in the fabric section, a quarter of its sales in the jewelry section, and the rest in the stationery section. They made 36 sales today. How many sales were in the stationery section?',\n",
       " 'answer': 'The craft store made 36 / 3 = <<36/3=12>>12 sales in the fabric section.\\nIt made 36 / 4 = <<36/4=9>>9 sales in the jewelry section.\\nThus, there were 36 - 12 - 9 = <<36-12-9=15>>15 sales in the stationery section.\\n#### 15',\n",
       " 'index': 100}"
      ]
     },
     "execution_count": 201,
     "metadata": {},
     "output_type": "execute_result"
    }
   ],
   "source": [
    "gsm8k_en['train'][100]"
   ]
  },
  {
   "cell_type": "code",
   "execution_count": 199,
   "metadata": {},
   "outputs": [
    {
     "name": "stdout",
     "output_type": "stream",
     "text": [
      "The craft store made 36 / 3 = <<36/3=12>>12 sales in the fabric section.\n",
      "It made 36 / 4 = <<36/4=9>>9 sales in the jewelry section.\n",
      "Thus, there were 36 - 12 - 9 = <<36-12-9=15>>15 sales in the stationery section.\n"
     ]
    }
   ],
   "source": [
    "print(gsm8k_en['train'][100]['answer'].split('####')[0].strip())"
   ]
  },
  {
   "cell_type": "code",
   "execution_count": 200,
   "metadata": {},
   "outputs": [
    {
     "name": "stdout",
     "output_type": "stream",
     "text": [
      "15\n"
     ]
    }
   ],
   "source": [
    "print(gsm8k_en['train'][100]['answer'].split('####')[1].strip())"
   ]
  },
  {
   "cell_type": "code",
   "execution_count": 202,
   "metadata": {},
   "outputs": [
    {
     "data": {
      "text/plain": [
       "['question', 'answer', 'index']"
      ]
     },
     "execution_count": 202,
     "metadata": {},
     "output_type": "execute_result"
    }
   ],
   "source": [
    "gsm8k_en['train'].column_names"
   ]
  },
  {
   "cell_type": "code",
   "execution_count": 203,
   "metadata": {},
   "outputs": [],
   "source": [
    "def transform(example):\n",
    "    explanation = example['answer'].split('####')[0].strip()\n",
    "    answer = example['answer'].split('####')[1].strip()\n",
    "    return {\n",
    "        \"index\": example['index'],\n",
    "        \"problem\": example[\"question\"],\n",
    "        \"solution\": f\"Explanation:\\n{explanation}\\nAnswer:\\n{answer}\",\n",
    "        \"answer\": answer\n",
    "    }\n",
    "\n",
    "# Apply transformation\n",
    "new_gsm8k_en = gsm8k_en.map(transform, remove_columns=gsm8k_en['train'].column_names)"
   ]
  },
  {
   "cell_type": "code",
   "execution_count": 204,
   "metadata": {},
   "outputs": [
    {
     "data": {
      "text/plain": [
       "DatasetDict({\n",
       "    train: Dataset({\n",
       "        features: ['answer', 'index', 'problem', 'solution'],\n",
       "        num_rows: 7473\n",
       "    })\n",
       "    test: Dataset({\n",
       "        features: ['answer', 'index', 'problem', 'solution'],\n",
       "        num_rows: 1319\n",
       "    })\n",
       "})"
      ]
     },
     "execution_count": 204,
     "metadata": {},
     "output_type": "execute_result"
    }
   ],
   "source": [
    "new_gsm8k_en"
   ]
  },
  {
   "cell_type": "code",
   "execution_count": 209,
   "metadata": {},
   "outputs": [
    {
     "data": {
      "text/plain": [
       "{'answer': '121',\n",
       " 'index': 10,\n",
       " 'problem': 'A deep-sea monster rises from the waters once every hundred years to feast on a ship and sate its hunger. Over three hundred years, it has consumed 847 people. Ships have been built larger over time, so each new ship has twice as many people as the last ship. How many people were on the ship the monster ate in the first hundred years?',\n",
       " 'solution': 'Explanation:\\nLet S be the number of people on the first hundred years’ ship.\\nThe second hundred years’ ship had twice as many as the first, so it had 2S people.\\nThe third hundred years’ ship had twice as many as the second, so it had 2 * 2S = <<2*2=4>>4S people.\\nAll the ships had S + 2S + 4S = 7S = 847 people.\\nThus, the ship that the monster ate in the first hundred years had S = 847 / 7 = <<847/7=121>>121 people on it.\\nAnswer:\\n121'}"
      ]
     },
     "execution_count": 209,
     "metadata": {},
     "output_type": "execute_result"
    }
   ],
   "source": [
    "new_gsm8k_en['train'][10]"
   ]
  },
  {
   "cell_type": "code",
   "execution_count": 210,
   "metadata": {},
   "outputs": [],
   "source": [
    "gsm8k_en = new_gsm8k_en\n",
    "# Splitting the dataset\n",
    "val_ratio = 0.1\n",
    "seed=202502\n",
    "# train_test_split = hf_dataset.train_test_split(test_size=test_ratio, seed=seed)\n",
    "train_val_split = gsm8k_en[\"train\"].shuffle(seed=seed).train_test_split(test_size=val_ratio, seed=seed)  # 0.25 x 0.8 = 0.2\n",
    "\n",
    "# Create DatasetDict\n",
    "gsm8k_en = DatasetDict({\n",
    "    \"train\": train_val_split[\"train\"],\n",
    "    \"val\": train_val_split[\"test\"],\n",
    "    \"test\": gsm8k_en[\"test\"]\n",
    "})"
   ]
  },
  {
   "cell_type": "code",
   "execution_count": 211,
   "metadata": {},
   "outputs": [
    {
     "data": {
      "text/plain": [
       "DatasetDict({\n",
       "    train: Dataset({\n",
       "        features: ['answer', 'index', 'problem', 'solution'],\n",
       "        num_rows: 6725\n",
       "    })\n",
       "    val: Dataset({\n",
       "        features: ['answer', 'index', 'problem', 'solution'],\n",
       "        num_rows: 748\n",
       "    })\n",
       "    test: Dataset({\n",
       "        features: ['answer', 'index', 'problem', 'solution'],\n",
       "        num_rows: 1319\n",
       "    })\n",
       "})"
      ]
     },
     "execution_count": 211,
     "metadata": {},
     "output_type": "execute_result"
    }
   ],
   "source": [
    "gsm8k_en"
   ]
  },
  {
   "cell_type": "code",
   "execution_count": 213,
   "metadata": {},
   "outputs": [
    {
     "data": {
      "text/plain": [
       "{'answer': '70',\n",
       " 'index': 6163,\n",
       " 'problem': \"The sum of the three angles of a triangle equals 250. The left angle is twice the right angle's value, and the right angle is 60 degrees. Find the value of the top angle?\",\n",
       " 'solution': 'Explanation:\\nSince the left angle is twice the value of the right angle, the left angle is 60*2 = <<60*2=120>>120 degrees.\\nThe total value of the left and right angles is 120+60 = <<120+60=180>>180 degrees.\\nSince the sum of the three angles is equal to 250, the other angle has a value of 250-180 = <<250-180=70>>70 degrees.\\nAnswer:\\n70'}"
      ]
     },
     "execution_count": 213,
     "metadata": {},
     "output_type": "execute_result"
    }
   ],
   "source": [
    "gsm8k_en['val'][2]"
   ]
  },
  {
   "cell_type": "code",
   "execution_count": 216,
   "metadata": {},
   "outputs": [
    {
     "data": {
      "application/vnd.jupyter.widget-view+json": {
       "model_id": "cba943be222c46509e38bc3609c444cf",
       "version_major": 2,
       "version_minor": 0
      },
      "text/plain": [
       "Uploading the dataset shards:   0%|          | 0/1 [00:00<?, ?it/s]"
      ]
     },
     "metadata": {},
     "output_type": "display_data"
    },
    {
     "data": {
      "application/vnd.jupyter.widget-view+json": {
       "model_id": "52e89a2a97b3440ebec963e2f8be2ca6",
       "version_major": 2,
       "version_minor": 0
      },
      "text/plain": [
       "Creating parquet from Arrow format:   0%|          | 0/7 [00:00<?, ?ba/s]"
      ]
     },
     "metadata": {},
     "output_type": "display_data"
    },
    {
     "data": {
      "application/vnd.jupyter.widget-view+json": {
       "model_id": "8b1d68f21f294b4293f143d4e77735dc",
       "version_major": 2,
       "version_minor": 0
      },
      "text/plain": [
       "Uploading the dataset shards:   0%|          | 0/1 [00:00<?, ?it/s]"
      ]
     },
     "metadata": {},
     "output_type": "display_data"
    },
    {
     "data": {
      "application/vnd.jupyter.widget-view+json": {
       "model_id": "1d6070cb5f7743ada8bf9f5aac1c9c34",
       "version_major": 2,
       "version_minor": 0
      },
      "text/plain": [
       "Creating parquet from Arrow format:   0%|          | 0/1 [00:00<?, ?ba/s]"
      ]
     },
     "metadata": {},
     "output_type": "display_data"
    },
    {
     "data": {
      "application/vnd.jupyter.widget-view+json": {
       "model_id": "7de42eae83304d82965f56ccb156e584",
       "version_major": 2,
       "version_minor": 0
      },
      "text/plain": [
       "Uploading the dataset shards:   0%|          | 0/1 [00:00<?, ?it/s]"
      ]
     },
     "metadata": {},
     "output_type": "display_data"
    },
    {
     "data": {
      "application/vnd.jupyter.widget-view+json": {
       "model_id": "950d294b5c404c87a3b4d5473baacf99",
       "version_major": 2,
       "version_minor": 0
      },
      "text/plain": [
       "Creating parquet from Arrow format:   0%|          | 0/2 [00:00<?, ?ba/s]"
      ]
     },
     "metadata": {},
     "output_type": "display_data"
    },
    {
     "data": {
      "text/plain": [
       "CommitInfo(commit_url='https://huggingface.co/datasets/namfam/gsm8k-english/commit/3363fbd2541ccd2feda9390d71ee5f3da0714462', commit_message='Upload dataset', commit_description='', oid='3363fbd2541ccd2feda9390d71ee5f3da0714462', pr_url=None, repo_url=RepoUrl('https://huggingface.co/datasets/namfam/gsm8k-english', endpoint='https://huggingface.co', repo_type='dataset', repo_id='namfam/gsm8k-english'), pr_revision=None, pr_num=None)"
      ]
     },
     "execution_count": 216,
     "metadata": {},
     "output_type": "execute_result"
    }
   ],
   "source": [
    "gsm8k_en.push_to_hub('namfam/gsm8k-english')"
   ]
  },
  {
   "cell_type": "code",
   "execution_count": 217,
   "metadata": {},
   "outputs": [
    {
     "data": {
      "application/vnd.jupyter.widget-view+json": {
       "model_id": "ac71f6304e044bcea977ee29fc641384",
       "version_major": 2,
       "version_minor": 0
      },
      "text/plain": [
       "README.md:   0%|          | 0.00/599 [00:00<?, ?B/s]"
      ]
     },
     "metadata": {},
     "output_type": "display_data"
    },
    {
     "data": {
      "application/vnd.jupyter.widget-view+json": {
       "model_id": "75e9a5fc128f4ad481fad1970c8b3496",
       "version_major": 2,
       "version_minor": 0
      },
      "text/plain": [
       "train-00000-of-00001.parquet:   0%|          | 0.00/2.13M [00:00<?, ?B/s]"
      ]
     },
     "metadata": {},
     "output_type": "display_data"
    },
    {
     "data": {
      "application/vnd.jupyter.widget-view+json": {
       "model_id": "52f22352ec7e4f629ecb7705be578b30",
       "version_major": 2,
       "version_minor": 0
      },
      "text/plain": [
       "val-00000-of-00001.parquet:   0%|          | 0.00/243k [00:00<?, ?B/s]"
      ]
     },
     "metadata": {},
     "output_type": "display_data"
    },
    {
     "data": {
      "application/vnd.jupyter.widget-view+json": {
       "model_id": "4451caa245164b73851debedbb5e7ac0",
       "version_major": 2,
       "version_minor": 0
      },
      "text/plain": [
       "test-00000-of-00001.parquet:   0%|          | 0.00/430k [00:00<?, ?B/s]"
      ]
     },
     "metadata": {},
     "output_type": "display_data"
    },
    {
     "data": {
      "application/vnd.jupyter.widget-view+json": {
       "model_id": "e054a136e6ae40ddbe24b6514a6a43dd",
       "version_major": 2,
       "version_minor": 0
      },
      "text/plain": [
       "Generating train split:   0%|          | 0/6725 [00:00<?, ? examples/s]"
      ]
     },
     "metadata": {},
     "output_type": "display_data"
    },
    {
     "data": {
      "application/vnd.jupyter.widget-view+json": {
       "model_id": "b9154b0f790b4ac69b10edb3e50c2d65",
       "version_major": 2,
       "version_minor": 0
      },
      "text/plain": [
       "Generating val split:   0%|          | 0/748 [00:00<?, ? examples/s]"
      ]
     },
     "metadata": {},
     "output_type": "display_data"
    },
    {
     "data": {
      "application/vnd.jupyter.widget-view+json": {
       "model_id": "7f1e89c9ee8a498e97fd36db953463ac",
       "version_major": 2,
       "version_minor": 0
      },
      "text/plain": [
       "Generating test split:   0%|          | 0/1319 [00:00<?, ? examples/s]"
      ]
     },
     "metadata": {},
     "output_type": "display_data"
    },
    {
     "name": "stdout",
     "output_type": "stream",
     "text": [
      "Saved train split to E:/projects/SolveItEasy/data/GSM8K/gsm8k_english\\train.json\n",
      "Saved val split to E:/projects/SolveItEasy/data/GSM8K/gsm8k_english\\val.json\n",
      "Saved test split to E:/projects/SolveItEasy/data/GSM8K/gsm8k_english\\test.json\n"
     ]
    }
   ],
   "source": [
    "save_hf_dataset_to_json('namfam/gsm8k-english', 'E:/projects/SolveItEasy/data/GSM8K/gsm8k_english')"
   ]
  },
  {
   "cell_type": "code",
   "execution_count": 218,
   "metadata": {},
   "outputs": [],
   "source": [
    "gmsk_vi = load_dataset('namfam/gsm8k-vietnamese')"
   ]
  },
  {
   "cell_type": "code",
   "execution_count": 219,
   "metadata": {},
   "outputs": [
    {
     "data": {
      "text/plain": [
       "DatasetDict({\n",
       "    train: Dataset({\n",
       "        features: ['index', 'answer', 'problem', 'solution'],\n",
       "        num_rows: 6725\n",
       "    })\n",
       "    test: Dataset({\n",
       "        features: ['index', 'answer', 'problem', 'solution'],\n",
       "        num_rows: 1319\n",
       "    })\n",
       "    val: Dataset({\n",
       "        features: ['index', 'answer', 'problem', 'solution'],\n",
       "        num_rows: 748\n",
       "    })\n",
       "})"
      ]
     },
     "execution_count": 219,
     "metadata": {},
     "output_type": "execute_result"
    }
   ],
   "source": [
    "gmsk_vi"
   ]
  },
  {
   "cell_type": "code",
   "execution_count": 220,
   "metadata": {},
   "outputs": [
    {
     "data": {
      "text/plain": [
       "{'index': 6163,\n",
       " 'answer': '70',\n",
       " 'problem': 'Tổng ba góc của một tam giác bằng 250 độ. Góc bên trái gấp đôi giá trị của góc bên phải và góc bên phải là 60 độ. Tìm giá trị của góc đỉnh?',\n",
       " 'solution': 'Explanation:\\nVì góc bên trái gấp đôi góc bên phải, nên góc bên trái có giá trị là 60*2 = 120 độ.\\nTổng giá trị của góc bên trái và góc bên phải là 120+60 = 180 độ.\\nVì tổng ba góc bằng 250 độ, nên góc còn lại có giá trị là 250-180 = 70 độ.\\nAnswer:\\n70'}"
      ]
     },
     "execution_count": 220,
     "metadata": {},
     "output_type": "execute_result"
    }
   ],
   "source": [
    "gmsk_vi['val'][2]"
   ]
  },
  {
   "cell_type": "code",
   "execution_count": 221,
   "metadata": {},
   "outputs": [
    {
     "data": {
      "text/plain": [
       "{'answer': '70',\n",
       " 'index': 6163,\n",
       " 'problem': \"The sum of the three angles of a triangle equals 250. The left angle is twice the right angle's value, and the right angle is 60 degrees. Find the value of the top angle?\",\n",
       " 'solution': 'Explanation:\\nSince the left angle is twice the value of the right angle, the left angle is 60*2 = <<60*2=120>>120 degrees.\\nThe total value of the left and right angles is 120+60 = <<120+60=180>>180 degrees.\\nSince the sum of the three angles is equal to 250, the other angle has a value of 250-180 = <<250-180=70>>70 degrees.\\nAnswer:\\n70'}"
      ]
     },
     "execution_count": 221,
     "metadata": {},
     "output_type": "execute_result"
    }
   ],
   "source": [
    "gsm8k_en['val'][2]"
   ]
  },
  {
   "cell_type": "code",
   "execution_count": 222,
   "metadata": {},
   "outputs": [
    {
     "name": "stdout",
     "output_type": "stream",
     "text": [
      "{'index': 99, 'answer': '3', 'problem': 'Gail có hai bể cá. Bể thứ nhất gấp đôi kích thước của bể thứ hai. Có 48 gallon nước trong bể thứ nhất. Cô ấy tuân theo quy tắc một gallon nước cho mỗi inch cá. Nếu cô ấy giữ cá 2 inch trong bể thứ hai và cá 3 inch trong bể thứ nhất, cô ấy sẽ có bao nhiêu cá hơn trong bể thứ nhất so với bể thứ hai nếu một con cá trong bể thứ nhất ăn mất một con cá khác?', 'solution': 'Explanation:\\nBể thứ hai có dung tích 24 gallon vì 48 chia 2 bằng 24.\\nTheo quy tắc của Gail, cô ấy nuôi 12 con cá dài 2 inch trong bể thứ hai vì 24 chia 2 bằng 12.\\nCô ấy nuôi 16 con cá trong bể thứ nhất vì 48 chia 3 bằng 16.\\nNếu một con cá trong bể thứ nhất ăn mất một con cá khác, cô ấy sẽ có 15 con cá trong bể thứ nhất.\\nDo đó, Gail sẽ có thêm 3 con cá trong bể thứ nhất.\\nAnswer:\\n3'}\n"
     ]
    }
   ],
   "source": [
    "for item in gmsk_vi['train']:\n",
    "    if item['index'] == 99:\n",
    "        print(item)"
   ]
  },
  {
   "cell_type": "code",
   "execution_count": 223,
   "metadata": {},
   "outputs": [
    {
     "name": "stdout",
     "output_type": "stream",
     "text": [
      "{'question': 'Gail has two fish tanks. The first tank is twice the size of the second tank. There are 48 gallons of water in the first tank. She follows the rule of one gallon of water per inch of fish. If she keeps two-inch fish in the second tank and three-inch fish in the first tank, how many more fish would Gail have in the first tank than the second tank if one of the first tank fish eats another?', 'answer': 'The second tank is 48 / 2 = <<48/2=24>>24 gallons.\\nFollowing her rule, Gail keeps 24 / 2 = <<24/2=12>>12 two-inch fish in the second tank.\\nShe keeps 48 / 3 = <<48/3=16>>16 fish in the first tank.\\nIf one fish in the first tank ate another, she would have 16 - 1 = <<16-1=15>>15 fish in the first tank.\\nThus, Gail would have 15 - 12 = <<15-12=3>>3 more fish in the first tank.\\n#### 3', 'index': 99}\n"
     ]
    }
   ],
   "source": [
    "for item in ds:\n",
    "    if item['index'] == 99:\n",
    "        print(item)"
   ]
  },
  {
   "cell_type": "code",
   "execution_count": null,
   "metadata": {},
   "outputs": [],
   "source": []
  },
  {
   "cell_type": "markdown",
   "metadata": {},
   "source": [
    "# Merge datasets"
   ]
  },
  {
   "cell_type": "code",
   "execution_count": 45,
   "metadata": {},
   "outputs": [],
   "source": [
    "from datasets import load_dataset"
   ]
  },
  {
   "cell_type": "code",
   "execution_count": 46,
   "metadata": {},
   "outputs": [],
   "source": [
    "gsm8k_vi = load_dataset('namfam/gsm8k-vietnamese')\n",
    "gsm8k_en = load_dataset('namfam/gsm8k-english')"
   ]
  },
  {
   "cell_type": "code",
   "execution_count": 47,
   "metadata": {},
   "outputs": [
    {
     "data": {
      "text/plain": [
       "DatasetDict({\n",
       "    train: Dataset({\n",
       "        features: ['index', 'answer', 'problem', 'solution'],\n",
       "        num_rows: 6725\n",
       "    })\n",
       "    test: Dataset({\n",
       "        features: ['index', 'answer', 'problem', 'solution'],\n",
       "        num_rows: 1319\n",
       "    })\n",
       "    val: Dataset({\n",
       "        features: ['index', 'answer', 'problem', 'solution'],\n",
       "        num_rows: 748\n",
       "    })\n",
       "})"
      ]
     },
     "execution_count": 47,
     "metadata": {},
     "output_type": "execute_result"
    }
   ],
   "source": [
    "gsm8k_vi"
   ]
  },
  {
   "cell_type": "code",
   "execution_count": 44,
   "metadata": {},
   "outputs": [],
   "source": [
    "# gsm8k_vi = gsm8k_vi.select(range(10))\n",
    "# gsm8k_en = gsm8k_en.select(range(10))"
   ]
  },
  {
   "cell_type": "code",
   "execution_count": 48,
   "metadata": {},
   "outputs": [],
   "source": [
    "from datasets import DatasetDict, concatenate_datasets\n",
    "\n",
    "def merge_datasets(dataset1: DatasetDict, dataset2: DatasetDict, shuffle: bool = False, seed: int = 42) -> DatasetDict:\n",
    "    \"\"\"\n",
    "    Merge two Hugging Face datasets (DatasetDict) with the same column structure.\n",
    "    \n",
    "    Args:\n",
    "        dataset1 (DatasetDict): First dataset (e.g., gsm8k_vi).\n",
    "        dataset2 (DatasetDict): Second dataset (e.g., gsm8k_en).\n",
    "        shuffle (bool): Whether to shuffle the merged dataset.\n",
    "        seed (int): Random seed for shuffling.\n",
    "\n",
    "    Returns:\n",
    "        DatasetDict: Merged dataset.\n",
    "    \"\"\"\n",
    "    merged_datasets = {}\n",
    "\n",
    "    for split in dataset1.keys():  # Assume both have the same splits (train, test, etc.)\n",
    "        if split in dataset2:\n",
    "            merged_datasets[split] = concatenate_datasets([dataset1[split], dataset2[split]])\n",
    "        else:\n",
    "            merged_datasets[split] = dataset1[split]\n",
    "\n",
    "    # Convert dict to DatasetDict\n",
    "    merged_datasets = DatasetDict(merged_datasets)\n",
    "\n",
    "    # Shuffle each split if shuffle=True\n",
    "    if shuffle:\n",
    "        merged_datasets = DatasetDict({\n",
    "            split: dataset.shuffle(seed=seed) for split, dataset in merged_datasets.items()\n",
    "        })\n",
    "\n",
    "    return merged_datasets\n",
    "\n",
    "\n"
   ]
  },
  {
   "cell_type": "code",
   "execution_count": 49,
   "metadata": {},
   "outputs": [
    {
     "name": "stdout",
     "output_type": "stream",
     "text": [
      "DatasetDict({\n",
      "    train: Dataset({\n",
      "        features: ['index', 'answer', 'problem', 'solution'],\n",
      "        num_rows: 13450\n",
      "    })\n",
      "    test: Dataset({\n",
      "        features: ['index', 'answer', 'problem', 'solution'],\n",
      "        num_rows: 2638\n",
      "    })\n",
      "    val: Dataset({\n",
      "        features: ['index', 'answer', 'problem', 'solution'],\n",
      "        num_rows: 1496\n",
      "    })\n",
      "})\n"
     ]
    }
   ],
   "source": [
    "# Example usage\n",
    "gsm8k_vi_en = merge_datasets(gsm8k_vi, gsm8k_en, shuffle=True, seed=202502)\n",
    "print(gsm8k_vi_en)"
   ]
  },
  {
   "cell_type": "code",
   "execution_count": 50,
   "metadata": {},
   "outputs": [
    {
     "data": {
      "text/plain": [
       "{'index': 2132,\n",
       " 'answer': '2',\n",
       " 'problem': 'The basketball team sold 50 cupcakes for $2 each and 40 cookies for $0.5 each. Then the money from their sales was used to buy two basketballs that cost $40 each. The rest of the money was used to buy 20 bottles of energy drinks. How much does a bottle of energy drink cost?',\n",
       " 'solution': 'Explanation:\\nThe basketball team earned 50 x $2 = $<<50*2=100>>100 from selling cupcakes.\\nThey also earned 40 x 0.5 = $<<40*0.5=20>>20 from selling cookies.\\nSo their total earnings was $100 + $20 = $<<100+20=120>>120.\\nThe two basketballs cost $40 x 2 = $<<40*2=80>>80.\\nThus, $120 - $80 = $<<120-80=40>>40 was used to buy the 20 bottles of energy drinks.\\nTherefore, each bottle of energy drink costs $40/20 = $<<40/20=2>>2.\\nAnswer:\\n2'}"
      ]
     },
     "execution_count": 50,
     "metadata": {},
     "output_type": "execute_result"
    }
   ],
   "source": [
    "gsm8k_vi_en['train'][1]"
   ]
  },
  {
   "cell_type": "code",
   "execution_count": 51,
   "metadata": {},
   "outputs": [
    {
     "data": {
      "text/plain": [
       "{'index': 3520,\n",
       " 'answer': '8',\n",
       " 'problem': 'Haley is getting ready to watch a comet fly over her house. She spends two hours shopping for a telescope, half an hour getting everything set up in the backyard, three times the setup time making snacks, and 20 minutes watching the comet. What percentage of the total time she spent on all those activities was spent watching the comet, rounded to the nearest percent?',\n",
       " 'solution': \"Explanation:\\nFirst convert Haley's shopping time to minutes: 2 hours * 60 minutes/hour = <<2*60=120>>120 minutes\\nThen convert Haley's setup time to minutes: .5 hours * 60 minutes/hour = <<.5*60=30>>30 minutes\\nThen find the total time she spends making a snack: 3 * 30 minutes = <<3*30=90>>90 minutes\\nThen add the time she spends on each activity to find the total time: 120 minutes + 30 minutes + 90 minutes = <<120+30+90=240>>240 minutes\\nThen divide the time she spends watching the comet by the total time and multiply by 100% to express the answer as a percentage: 20 minutes / 240 minutes = 8.333...%, which rounds down to 8%\\nAnswer:\\n8\"}"
      ]
     },
     "execution_count": 51,
     "metadata": {},
     "output_type": "execute_result"
    }
   ],
   "source": [
    "gsm8k_vi_en['train'][6726]"
   ]
  },
  {
   "cell_type": "code",
   "execution_count": 52,
   "metadata": {},
   "outputs": [
    {
     "data": {
      "application/vnd.jupyter.widget-view+json": {
       "model_id": "391b66bf58ca47ecb158074e67035e2f",
       "version_major": 2,
       "version_minor": 0
      },
      "text/plain": [
       "Uploading the dataset shards:   0%|          | 0/1 [00:00<?, ?it/s]"
      ]
     },
     "metadata": {},
     "output_type": "display_data"
    },
    {
     "data": {
      "application/vnd.jupyter.widget-view+json": {
       "model_id": "d9b124d49d6a46f28963d5faf262d0a5",
       "version_major": 2,
       "version_minor": 0
      },
      "text/plain": [
       "Creating parquet from Arrow format:   0%|          | 0/14 [00:00<?, ?ba/s]"
      ]
     },
     "metadata": {},
     "output_type": "display_data"
    },
    {
     "data": {
      "application/vnd.jupyter.widget-view+json": {
       "model_id": "a68b56aa3afe430882592b89e37278f7",
       "version_major": 2,
       "version_minor": 0
      },
      "text/plain": [
       "Uploading the dataset shards:   0%|          | 0/1 [00:00<?, ?it/s]"
      ]
     },
     "metadata": {},
     "output_type": "display_data"
    },
    {
     "data": {
      "application/vnd.jupyter.widget-view+json": {
       "model_id": "46ae5ca168464b649bc60d34c15b1107",
       "version_major": 2,
       "version_minor": 0
      },
      "text/plain": [
       "Creating parquet from Arrow format:   0%|          | 0/3 [00:00<?, ?ba/s]"
      ]
     },
     "metadata": {},
     "output_type": "display_data"
    },
    {
     "data": {
      "application/vnd.jupyter.widget-view+json": {
       "model_id": "a872e09a75094452acab96c6e7c0a259",
       "version_major": 2,
       "version_minor": 0
      },
      "text/plain": [
       "Uploading the dataset shards:   0%|          | 0/1 [00:00<?, ?it/s]"
      ]
     },
     "metadata": {},
     "output_type": "display_data"
    },
    {
     "data": {
      "application/vnd.jupyter.widget-view+json": {
       "model_id": "d2cd75f538744acd95ee46a59998c226",
       "version_major": 2,
       "version_minor": 0
      },
      "text/plain": [
       "Creating parquet from Arrow format:   0%|          | 0/2 [00:00<?, ?ba/s]"
      ]
     },
     "metadata": {},
     "output_type": "display_data"
    },
    {
     "data": {
      "text/plain": [
       "CommitInfo(commit_url='https://huggingface.co/datasets/namfam/gsm8k-vi-en/commit/7b62e62067325f3d72802a1b7cb5870605815f74', commit_message='Upload dataset', commit_description='', oid='7b62e62067325f3d72802a1b7cb5870605815f74', pr_url=None, repo_url=RepoUrl('https://huggingface.co/datasets/namfam/gsm8k-vi-en', endpoint='https://huggingface.co', repo_type='dataset', repo_id='namfam/gsm8k-vi-en'), pr_revision=None, pr_num=None)"
      ]
     },
     "execution_count": 52,
     "metadata": {},
     "output_type": "execute_result"
    }
   ],
   "source": [
    "gsm8k_vi_en.push_to_hub('namfam/gsm8k-vi-en')"
   ]
  },
  {
   "cell_type": "code",
   "execution_count": 40,
   "metadata": {},
   "outputs": [
    {
     "name": "stdout",
     "output_type": "stream",
     "text": [
      "DatasetDict({\n",
      "    train: Dataset({\n",
      "        features: ['index', 'answer', 'problem', 'solution'],\n",
      "        num_rows: 4000\n",
      "    })\n",
      "    test: Dataset({\n",
      "        features: ['index', 'answer', 'problem', 'solution'],\n",
      "        num_rows: 2638\n",
      "    })\n",
      "    val: Dataset({\n",
      "        features: ['index', 'answer', 'problem', 'solution'],\n",
      "        num_rows: 1496\n",
      "    })\n",
      "})\n"
     ]
    }
   ],
   "source": [
    "from datasets import DatasetDict, concatenate_datasets\n",
    "\n",
    "def merge_datasets_sampled(\n",
    "    dataset1: DatasetDict, dataset2: DatasetDict, num_samples: int, shuffle: bool = False, seed: int = 42\n",
    ") -> DatasetDict:\n",
    "    \"\"\"\n",
    "    Merge two Hugging Face datasets (DatasetDict) while keeping the same total size.\n",
    "    Each dataset is randomly sampled based on `num_samples` before merging.\n",
    "\n",
    "    Args:\n",
    "        dataset1 (DatasetDict): First dataset (e.g., gsm8k_vi).\n",
    "        dataset2 (DatasetDict): Second dataset (e.g., gsm8k_en).\n",
    "        num_samples (int): Number of samples to take from each dataset before merging.\n",
    "        shuffle (bool): Whether to shuffle the merged dataset.\n",
    "        seed (int): Random seed for sampling and shuffling.\n",
    "\n",
    "    Returns:\n",
    "        DatasetDict: Merged dataset with the specified number of samples from each dataset.\n",
    "    \"\"\"\n",
    "    merged_datasets = {}\n",
    "\n",
    "    for split in dataset1.keys():  # Assume both datasets have the same splits (train, test, etc.)\n",
    "        if split in dataset2:\n",
    "            max_samples = min(len(dataset1[split]), len(dataset2[split]), num_samples)\n",
    "            \n",
    "            # Sample `num_samples` from each dataset\n",
    "            sampled_ds1 = dataset1[split].shuffle(seed=seed).select(range(max_samples))\n",
    "            sampled_ds2 = dataset2[split].shuffle(seed=seed).select(range(max_samples))\n",
    "\n",
    "            # Merge the sampled datasets\n",
    "            merged_datasets[split] = concatenate_datasets([sampled_ds1, sampled_ds2])\n",
    "        else:\n",
    "            merged_datasets[split] = dataset1[split]\n",
    "\n",
    "    # Convert dict to DatasetDict\n",
    "    merged_datasets = DatasetDict(merged_datasets)\n",
    "\n",
    "    # Shuffle each split if shuffle=True\n",
    "    if shuffle:\n",
    "        merged_datasets = DatasetDict({\n",
    "            split: dataset.shuffle(seed=seed) for split, dataset in merged_datasets.items()\n",
    "        })\n",
    "\n",
    "    return merged_datasets\n",
    "\n",
    "# Example usage: Take 2000 samples from each dataset before merging\n",
    "gsm8k_vi_en = merge_datasets_sampled(gsm8k_vi, gsm8k_en, num_samples=2000, shuffle=True, seed=202502)\n",
    "print(gsm8k_vi_en)\n"
   ]
  },
  {
   "cell_type": "code",
   "execution_count": 41,
   "metadata": {},
   "outputs": [
    {
     "name": "stdout",
     "output_type": "stream",
     "text": [
      "DatasetDict({\n",
      "    train: Dataset({\n",
      "        features: ['index', 'answer', 'problem', 'solution'],\n",
      "        num_rows: 2000\n",
      "    })\n",
      "    test: Dataset({\n",
      "        features: ['index', 'answer', 'problem', 'solution'],\n",
      "        num_rows: 2000\n",
      "    })\n",
      "    val: Dataset({\n",
      "        features: ['index', 'answer', 'problem', 'solution'],\n",
      "        num_rows: 1496\n",
      "    })\n",
      "})\n"
     ]
    }
   ],
   "source": [
    "# Example usage\n",
    "gsm8k_vi_en = merge_datasets_sampled(gsm8k_vi, gsm8k_en, shuffle=True, num_samples=1000, seed=202502)\n",
    "print(gsm8k_vi_en)\n"
   ]
  },
  {
   "cell_type": "code",
   "execution_count": null,
   "metadata": {},
   "outputs": [],
   "source": []
  },
  {
   "cell_type": "markdown",
   "metadata": {},
   "source": [
    "# Prepare data for Seq2Seq Model"
   ]
  },
  {
   "cell_type": "code",
   "execution_count": 1,
   "metadata": {},
   "outputs": [],
   "source": [
    "from datasets import load_dataset"
   ]
  },
  {
   "cell_type": "code",
   "execution_count": 2,
   "metadata": {},
   "outputs": [],
   "source": [
    "gsm8k_vi = load_dataset('namfam/gsm8k-vietnamese')"
   ]
  },
  {
   "cell_type": "code",
   "execution_count": 3,
   "metadata": {},
   "outputs": [
    {
     "data": {
      "text/plain": [
       "DatasetDict({\n",
       "    train: Dataset({\n",
       "        features: ['index', 'answer', 'problem', 'solution'],\n",
       "        num_rows: 6725\n",
       "    })\n",
       "    test: Dataset({\n",
       "        features: ['index', 'answer', 'problem', 'solution'],\n",
       "        num_rows: 1319\n",
       "    })\n",
       "    val: Dataset({\n",
       "        features: ['index', 'answer', 'problem', 'solution'],\n",
       "        num_rows: 748\n",
       "    })\n",
       "})"
      ]
     },
     "execution_count": 3,
     "metadata": {},
     "output_type": "execute_result"
    }
   ],
   "source": [
    "gsm8k_vi "
   ]
  },
  {
   "cell_type": "code",
   "execution_count": 8,
   "metadata": {},
   "outputs": [],
   "source": [
    "from pprint import pprint"
   ]
  },
  {
   "cell_type": "code",
   "execution_count": 11,
   "metadata": {},
   "outputs": [
    {
     "name": "stdout",
     "output_type": "stream",
     "text": [
      "('Yasmin đã gửi một chiếc séc sinh nhật trị giá $50 từ bà của cô ấy vào tài '\n",
      " 'khoản ngân hàng của mình. Séc này có giá trị bằng một phần tư số dư mới của '\n",
      " 'cô ấy sau khi tiền từ chiếc séc được cộng vào. Hỏi trước khi gửi chiếc séc, '\n",
      " 'số tiền trong tài khoản của Yasmin là bao nhiêu đô la?')\n"
     ]
    }
   ],
   "source": [
    "pprint(gsm8k_vi['train']['problem'][1])"
   ]
  },
  {
   "cell_type": "code",
   "execution_count": 15,
   "metadata": {},
   "outputs": [
    {
     "name": "stdout",
     "output_type": "stream",
     "text": [
      "('Explanation:\\n'\n",
      " 'Số tiền 50 đô la trên chiếc séc đó tương đương với 1/4 số dư mới của Yasmin, '\n",
      " 'vì vậy số dư mới của cô ấy là 50 * 4 = 200 đô la.\\n'\n",
      " 'Do đó, trước khi gửi séc vào tài khoản, Yasmin đã có 150 đô la trong tài '\n",
      " 'khoản của mình.\\n'\n",
      " 'Answer:\\n'\n",
      " '150')\n"
     ]
    }
   ],
   "source": [
    "pprint(gsm8k_vi['train']['solution'][1])"
   ]
  },
  {
   "cell_type": "code",
   "execution_count": null,
   "metadata": {},
   "outputs": [],
   "source": []
  },
  {
   "cell_type": "markdown",
   "metadata": {},
   "source": [
    "# Function generate_prompt"
   ]
  },
  {
   "cell_type": "code",
   "execution_count": 405,
   "metadata": {},
   "outputs": [],
   "source": [
    "import yaml\n",
    "\n",
    "def load_yaml(file_path: str) -> dict:\n",
    "    \"\"\"Loads user data from a YAML file.\"\"\"\n",
    "    with open(file_path, \"r\", encoding=\"utf-8\") as file:\n",
    "        data = yaml.safe_load(file)\n",
    "    return data.get(\"prompt\", {})  # Extract the 'prompt' section\n",
    "\n",
    "\n",
    "def format_examples(user_input: dict) -> str:\n",
    "    \"\"\"Formats the examples section if examples_list is provided, using examples_template.\"\"\"\n",
    "    examples_key = user_input.get(\"examples_key\", \"\")\n",
    "    examples_template = user_input.get(\"examples_template\", \"\")\n",
    "    examples_list = user_input.get(\"examples_list\", [])\n",
    "\n",
    "    if examples_key and examples_list:\n",
    "        formatted_examples = \"\\n\".join(\n",
    "            examples_template.format(\n",
    "                index=example.get(\"index\", \"\"),\n",
    "                problem=example.get(\"problem\", \"\"),\n",
    "                reason=example.get(\"reason\", \"\"),\n",
    "                answer=example.get(\"answer\", \"\")\n",
    "            ).strip()\n",
    "            for example in examples_list if \"problem\" in example and \"answer\" in example\n",
    "        )\n",
    "        return f\"{examples_key}\\n{formatted_examples}\" if formatted_examples else \"\"\n",
    "\n",
    "    return \"\"\n",
    "\n",
    "\n",
    "def generate_prompt(prompt_args: dict, phase: str) -> str:\n",
    "    \"\"\"\n",
    "    Generates a structured prompt based on the provided dictionary.\n",
    "    If any key or text is missing, that section is excluded.\n",
    "\n",
    "    Sections are included only if:\n",
    "    - Their corresponding key/text is present.\n",
    "    - The relevant flag allows their inclusion.\n",
    "\n",
    "    Args:\n",
    "        prompt_args (dict): A dictionary containing keys and their corresponding text.\n",
    "        phase (str): The phase of the process (e.g., 'train').\n",
    "\n",
    "    Returns:\n",
    "        str: The formatted prompt.\n",
    "    \"\"\"\n",
    "\n",
    "    # Boolean flags to control sections\n",
    "    use_only_input_text = prompt_args.get(\"use_only_input_text\", False)\n",
    "    use_examples = prompt_args.get(\"use_examples\", False)\n",
    "    use_context = prompt_args.get(\"use_context\", False)\n",
    "    use_response_format_guide = prompt_args.get(\"use_response_format_guide\", False)\n",
    "\n",
    "    # If `use_only_input_text` is True, return only input-related sections\n",
    "    if use_only_input_text:\n",
    "        return prompt_args.get('input_text', '')\n",
    "\n",
    "    sections = [\n",
    "        (\"\", \"intro_text\"),\n",
    "        (\"instruction_key\", \"instruction_text\"),\n",
    "        (\"response_format_guide_key\", \"response_format_guide_text\") if use_response_format_guide else ('', ''),  # Exclude if flag is False\n",
    "        (\"examples_key\", [\"examples_template\", \"examples_list\"]) if use_examples else ('', ''),  # Exclude if flag is False\n",
    "        (\"context_key\", \"context_text\") if use_context else ('', ''),  # Exclude if flag is False\n",
    "        (\"input_key\", \"input_text\"),\n",
    "        (\"response_key\", \"response_text\") if phase == 'train' else (\"response_key\", \"\"),\n",
    "    ]\n",
    "\n",
    "    prompt_parts = []\n",
    "\n",
    "    for key, text in sections:\n",
    "        section_content = []\n",
    "\n",
    "        if key == \"examples_key\":\n",
    "            section_content = format_examples(prompt_args)\n",
    "            prompt_parts.append(section_content)\n",
    "            continue\n",
    "\n",
    "        if key in prompt_args and prompt_args[key]:  # If section_key exists and is not empty\n",
    "            section_content.append(prompt_args[key])\n",
    "\n",
    "        if text in prompt_args and prompt_args[text]:  # If section_text exists and is not empty\n",
    "            section_content.append(prompt_args[text])\n",
    "\n",
    "        if section_content:\n",
    "            prompt_parts.append(\"\\n\".join(section_content))  # Join key and text if both exist\n",
    "\n",
    "    prompt = \"\\n---\\n\".join(prompt_parts)\n",
    "\n",
    "    if \"end_key\" in prompt_args and prompt_args[\"end_key\"]:\n",
    "        prompt += prompt_args[\"end_key\"]\n",
    "\n",
    "    return prompt\n",
    "\n",
    "\n"
   ]
  },
  {
   "cell_type": "code",
   "execution_count": 406,
   "metadata": {},
   "outputs": [],
   "source": [
    "# Load user data from YAML file\n",
    "yaml_file_path = \"E:/projects/SolveItEasy/configs/toy_generate.yaml\"  # Change this to your actual YAML file path\n",
    "user_data = load_yaml(yaml_file_path)\n",
    "phase = 'train'\n",
    "# user_data"
   ]
  },
  {
   "cell_type": "code",
   "execution_count": 407,
   "metadata": {},
   "outputs": [
    {
     "name": "stdout",
     "output_type": "stream",
     "text": [
      "You are a math expert.\n",
      "---\n",
      "Solve the following problem carefully and accurately.\n",
      "Your response must include two sections:\n",
      "- Reason: Provide a step-by-step explanation of how to solve the problem.\n",
      "- Answer: Write only the final numerical answer without any additional text, symbols, or units.\n",
      "---\n",
      "Format your response exactly as follows:\n",
      "Solution:\n",
      "Reason:\n",
      "<Step-by-step explanation>\n",
      "Answer:\n",
      "<Final numerical result>\n",
      "---\n",
      "Here are some examples to guide you:\n",
      "- Example 1\n",
      "  Problem:\n",
      "  Weng kiếm được $12 một giờ khi trông trẻ. Hôm qua, cô ấy chỉ trông được 50 phút. Cô ấy kiếm được bao nhiêu tiền?\n",
      "\n",
      "  Solution:\n",
      "  Reason:\n",
      "  Weng kiếm được 12/60 = $0.2 mỗi phút.\n",
      "Làm việc trong 50 phút, cô ấy kiếm được 0.2 x 50 = $10.\n",
      "  Answer:\n",
      "  10\n",
      "- Example 2\n",
      "  Problem:\n",
      "  Weng kiếm được $12 một giờ khi trông trẻ. Hôm qua, cô ấy chỉ trông được 50 phút. Cô ấy kiếm được bao nhiêu tiền?\n",
      "\n",
      "  Solution:\n",
      "  Reason:\n",
      "  Weng kiếm được 12/60 = $0.2 mỗi phút.\n",
      "Làm việc trong 50 phút, cô ấy kiếm được 0.2 x 50 = $10.\n",
      "  Answer:\n",
      "  10\n",
      "---\n",
      "Here is the problem:\n",
      "Marc đã mua 5 mô hình xe hơi giá $20 mỗi chiếc và 5 chai sơn giá $10 mỗi chai. Anh ấy cũng mua 5 cọ sơn giá $2 mỗi cái. Tổng chi phí của Marc là bao nhiêu?\n",
      "---\n",
      "Now, please solve the problem and provide your response below.\n",
      "Solution:\n",
      "Reason:\n",
      "5 chiếc xe mô hình có giá $20 x 5 = $100.\n",
      "5 chai sơn có giá $10 x 5 = $50.\n",
      "5 cọ sơn có giá $2 x 5 = $10.\n",
      "Vì vậy, Marc đã chi tiêu tổng cộng $100 + $50 + $10 = $160.\n",
      "Answer:\n",
      "160\n"
     ]
    }
   ],
   "source": [
    "# Generate and print the final prompt\n",
    "final_prompt = generate_prompt(user_data, phase)\n",
    "print(final_prompt)\n"
   ]
  },
  {
   "cell_type": "code",
   "execution_count": null,
   "metadata": {},
   "outputs": [],
   "source": []
  }
 ],
 "metadata": {
  "kernelspec": {
   "display_name": "env-01",
   "language": "python",
   "name": "python3"
  },
  "language_info": {
   "codemirror_mode": {
    "name": "ipython",
    "version": 3
   },
   "file_extension": ".py",
   "mimetype": "text/x-python",
   "name": "python",
   "nbconvert_exporter": "python",
   "pygments_lexer": "ipython3",
   "version": "3.11.10"
  }
 },
 "nbformat": 4,
 "nbformat_minor": 2
}
